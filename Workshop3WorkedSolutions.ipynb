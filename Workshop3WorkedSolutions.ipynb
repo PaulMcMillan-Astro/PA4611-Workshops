{
 "cells": [
  {
   "cell_type": "markdown",
   "metadata": {},
   "source": [
    "# The Jupyter notebook\n",
    "\n",
    "This is a Jupyter notebook. It is a useful way of combining code, plots and text into a single document. In this workshop, I will be introducing (some of) you to using these notebooks and some of the basic Python skills that you will need to complete the course.\n",
    "\n",
    "Important disclaimer: I make no claim that what I show you is the purest 'Pythonic' way of doing things, but it is a reasonable set of tools that will get you through the course. \n",
    "\n",
    "The basics of the coding will not be needed by some of you, but the problems related to phase-space flows should be newer to you"
   ]
  },
  {
   "cell_type": "markdown",
   "metadata": {},
   "source": [
    "## Each of these individual \"cells\" can contain text or code. \n",
    "\n",
    "Text is entered in the markdown language [https://www.markdownguide.org/], basically it's a lot like LaTeX, but you have a few simpler options, such as making headings by starting a line with `#` or `##`, and making lists by starting lines with `*`.\n",
    "\n",
    "### Warning!\n",
    "Notebooks execute code in the order you run the cells, not the order they appear in the notebook. You need to be careful about this, as it can lead to unexpected results otherwise."
   ]
  },
  {
   "cell_type": "markdown",
   "metadata": {},
   "source": [
    "## Setting up Python to do some science\n",
    "\n",
    "Python's main selling point is the rich variety of code packages that already exist and are easy to add to your code so that you can use them. The three key ones for us are these: \n",
    "\n",
    "### numpy\n",
    "numpy is a package that allows you to do numerical calculations in Python. It is very fast and has a wide range of functions that are useful for scientific computing. Notably it is very fast at doing calculations on arrays of numbers. It can also do things like random number generation and matrix algebra. [https://numpy.org/]\n",
    "\n",
    "### matplotlib\n",
    "matplotlib is a package that allows you to make plots in Python. It is very flexible and can make a wide range of plots. It is also relatively easy to use. We will generally use the `pyplot` module from matplotlib, which is a simplified interface to the package. [https://matplotlib.org/]\n",
    "\n",
    "### scipy\n",
    "scipy is a package that builds on numpy and provides a wide range of scientific computing tools. We will use it for things like numerical integration and binning data. [https://www.scipy.org/]"
   ]
  },
  {
   "cell_type": "code",
   "execution_count": 1,
   "metadata": {},
   "outputs": [],
   "source": [
    "# N.B. this is how I leave a comment in my code, I put it after a # symbol\n",
    "\n",
    "# Importing the modules so that we can use them is as simple as this:\n",
    "import numpy as np\n",
    "import matplotlib.pyplot as plt\n",
    "import scipy.integrate as integrate\n",
    "import scipy.stats"
   ]
  },
  {
   "cell_type": "markdown",
   "metadata": {},
   "source": [
    "### For use on university machines/your machine if necessary"
   ]
  },
  {
   "cell_type": "code",
   "execution_count": null,
   "metadata": {},
   "outputs": [],
   "source": [
    "\n",
    "# If you don not have numpy, matplotib or scipy installed, you can install them by running the following commands \n",
    "# (uncomment them as needed). You only need to run them once, and then you can comment them out again.\n",
    "\n",
    "#import sys\n",
    "#!{sys.executable} -m pip install numpy\n",
    "\n",
    "#!{sys.executable} -m pip install scipy\n",
    "#!{sys.executable} -m pip install matplotlib"
   ]
  },
  {
   "cell_type": "markdown",
   "metadata": {},
   "source": [
    "## Some simple operations using these libraries\n",
    "\n",
    "I'm going to give a few quick examples of how these work. These should help you to get started with the exercises."
   ]
  },
  {
   "cell_type": "markdown",
   "metadata": {},
   "source": [
    "### Numpy"
   ]
  },
  {
   "cell_type": "code",
   "execution_count": 2,
   "metadata": {},
   "outputs": [],
   "source": [
    "# Python loves a list, defined by square brackets\n",
    "x = [1, 2, 3, 4, 5]\n",
    "\n",
    "# But they are not very good for doing maths, for example, you might know what to expect with this:\n",
    "y = x * 2"
   ]
  },
  {
   "cell_type": "code",
   "execution_count": null,
   "metadata": {},
   "outputs": [],
   "source": [
    "# But you get this:\n",
    "print(y)"
   ]
  },
  {
   "cell_type": "code",
   "execution_count": null,
   "metadata": {},
   "outputs": [],
   "source": [
    "# Or, just as bad, you might expect this to work:\n",
    "#y = x + 2\n",
    "#print(y)"
   ]
  },
  {
   "cell_type": "code",
   "execution_count": null,
   "metadata": {},
   "outputs": [],
   "source": [
    "# But if i put it in a numpy array, it works as expected\n",
    "x = np.array([1, 2, 3, 4, 5]) # note that any numpy command has to begin `np.`\n",
    "y = x + 2\n",
    "print(y)"
   ]
  },
  {
   "cell_type": "code",
   "execution_count": null,
   "metadata": {},
   "outputs": [],
   "source": [
    "# So always put things in numpy arrays if you want to do maths with them\n",
    "# You can also get numpy to make those arrays for you, for example\n",
    "x = np.arange(0, 10, 2) # set array to values from 0 to 10 in steps of 2 – note there is no 10 in the array\n",
    "x2 = np.linspace(0, 10, 6) # set array to values evenly spaced from 0 to 10 (including 10) with 6 values\n",
    "print([x, x2])"
   ]
  },
  {
   "cell_type": "code",
   "execution_count": null,
   "metadata": {},
   "outputs": [],
   "source": [
    "# If you want to know how a function works, you have a few options\n",
    "# 1. Use the help function\n",
    "print(help(np.linspace))"
   ]
  },
  {
   "cell_type": "code",
   "execution_count": null,
   "metadata": {},
   "outputs": [],
   "source": [
    "\n",
    "# 2. Use the question mark\n",
    "?np.linspace\n",
    "# 3. Use the internet - Stack Overflow is often your friend\n"
   ]
  },
  {
   "cell_type": "code",
   "execution_count": null,
   "metadata": {},
   "outputs": [],
   "source": [
    "# You can also demand random numbers. The preferred way to do this is to create a 'generator' which you then use to create random numbers\n",
    "\n",
    "rng = np.random.default_rng() # create a random number generator\n",
    "x = rng.random(10) # create an array of 10 random numbers between 0 and 1\n",
    "x2 = rng.normal(0, 1, 10) # create an array of 10 random numbers from a normal distribution with mean 0 and standard deviation 1\n",
    "print(x)\n",
    "print(x2)"
   ]
  },
  {
   "cell_type": "code",
   "execution_count": null,
   "metadata": {},
   "outputs": [],
   "source": [
    "# One can equally create 2D arrays, or even more dimensions\n",
    "x = np.array([[1, 2, 3], [4, 5, 6]]) # create a 2D array\n",
    "xr = rng.random((2, 3)) # create a 2D array of random numbers\n",
    "print(x)\n",
    "print (xr)"
   ]
  },
  {
   "cell_type": "markdown",
   "metadata": {},
   "source": [
    "numpy has a wide range of useful functions, and it is usually well worth looking at the documentation to see if there is a function that does what you want. Here are a few examples of things you can do with numpy."
   ]
  },
  {
   "cell_type": "code",
   "execution_count": null,
   "metadata": {},
   "outputs": [],
   "source": [
    "# Other helpful little functions\n",
    "xmax = np.max(x) # find the maximum value in an array\n",
    "xmin = np.min(x) # find the minimum value in an array\n",
    "xsum = np.sum(x) # find the sum of all the values in an array\n",
    "xmean = np.mean(x) # find the mean of all the values in an array\n",
    "print([xmax, xmin, xsum, xmean])\n",
    "print([np.pi, np.e]) # get the value of pi and e"
   ]
  },
  {
   "cell_type": "code",
   "execution_count": null,
   "metadata": {},
   "outputs": [],
   "source": [
    "# Or standard mathematical functions, for example\n",
    "print(np.sin(x)) # note that this assumes x is in radians\n",
    "print(np.sqrt(x))"
   ]
  },
  {
   "cell_type": "markdown",
   "metadata": {},
   "source": [
    "### Matplotlib"
   ]
  },
  {
   "cell_type": "code",
   "execution_count": null,
   "metadata": {},
   "outputs": [],
   "source": [
    "# Draw a simple line graph\n",
    "x = np.linspace(0, 10, 21)\n",
    "y = x**2 # note that this is a vectorised operation, so it squares each element of x\n",
    "plt.plot(x, y)\n",
    "plt.xlabel('x')\n",
    "plt.ylabel('y')\n",
    "plt.show() # this is necessary to actually display the plot properly"
   ]
  },
  {
   "cell_type": "code",
   "execution_count": null,
   "metadata": {},
   "outputs": [],
   "source": [
    "# Or alternatively, plotting points\n",
    "plt.plot(x, y, '.') # '.' means plot dots, not lines\n",
    "plt.xlabel('x')\n",
    "plt.ylabel('y')\n",
    "plt.show()"
   ]
  },
  {
   "cell_type": "markdown",
   "metadata": {},
   "source": [
    "### Better plotting\n",
    "\n",
    "The above are examples of the most basic plots that you will need to make in Python, however, they are pretty ugly. There are various ways of making your plots look nicer. I will give my very simple usual method for making text readable and axes useful, here but other ways of doing this are available.\n"
   ]
  },
  {
   "cell_type": "code",
   "execution_count": 16,
   "metadata": {},
   "outputs": [],
   "source": [
    "plt.rcParams.update({\n",
    "     'xtick.minor.visible' : True, \n",
    "     'xtick.top' : True,\n",
    "     'ytick.minor.visible' : True, \n",
    "     'ytick.right' : True,\n",
    "     'xtick.direction' : 'in', \n",
    "     'ytick.direction' :'in',\n",
    "     'font.size' : 14,}\n",
    ")"
   ]
  },
  {
   "cell_type": "code",
   "execution_count": null,
   "metadata": {},
   "outputs": [],
   "source": [
    "# But that's a terrible plot. Let's do something better.\n",
    "fig, ax = plt.subplots(nrows=1, ncols=2, figsize=(7,4)) # create a figure with two subplots\n",
    "\n",
    "# I now plot by giving a command to the axes (i.e., a single panel of the figure)\n",
    "# The syntax is a little different from when we just use plt.plot, but the documentation is pretty good\n",
    "\n",
    "ax[0].plot(x, y, c='r') # plot in red\n",
    "sca = ax[1].scatter(x, y, c=np.sin(x)) # scatter plot where the colour is determined by the sin of x\n",
    "plt.colorbar(sca , ax=ax[1], label='sin(x)') # add a colour bar to the second plot\n",
    "\n",
    "# Add some labels\n",
    "ax[0].set_xlabel('x')\n",
    "ax[0].set_ylabel('y')\n",
    "ax[1].set_xlabel('y')\n",
    "ax[1].set_ylabel('x')\n",
    "\n",
    "ax[0].set_title(r'$y = x^2$') # Notice that you can use LaTeX formating for maths, but you have to put an 'r' before the string\n",
    "ax[1].set_title('flipped it')\n",
    "\n",
    "plt.tight_layout() # this makes sure the plots don't overlap\n",
    "\n",
    "plt.show()\n",
    "\n",
    "\n"
   ]
  },
  {
   "cell_type": "markdown",
   "metadata": {},
   "source": [
    "#### Using scipy and matplotlib to make a 2D colourplot\n",
    "A common use of matplotlib (and often scipy) is to make a 2D colourplot. This is a plot where the value of a function is shown as a colour on a 2D grid. This is a very useful way of visualising data, and is often used in scientific papers. Here is an example of how to make one of these plots."
   ]
  },
  {
   "cell_type": "markdown",
   "metadata": {},
   "source": [
    "First just a simple example of a 2D plot using matplotlib alone. This plots the density of the points in a 2D histogram (normalised so the integral over the plane is 1)."
   ]
  },
  {
   "cell_type": "code",
   "execution_count": null,
   "metadata": {},
   "outputs": [],
   "source": [
    "x_blob = rng.normal(0, 1, 1000)\n",
    "y_blob = rng.normal(0, 1, 1000)\n",
    "plt.hist2d(x_blob, y_blob, bins=[np.linspace(-3, 3, 21), np.linspace(-3, 3, 21)], density=True) # create a 2D histogram\n",
    "plt.xlabel('x')\n",
    "plt.ylabel('y')\n",
    "plt.colorbar(label='density')\n",
    "plt.show()\n"
   ]
  },
  {
   "cell_type": "markdown",
   "metadata": {},
   "source": [
    "Now using scipy to calculate the mean value of some third quantity (z) in each bin, then plotting it with matplotlib. This is a very common use of these two packages together.\n",
    "\n",
    "Note that we are use the `imshow` function from matplotlib to make the colourplot. This function is very common, but it is also a bit of a pain. Note that you have to take the transpose of the array you are plotting, and that the origin needs to be set to 'lower' to get the axes the right way up."
   ]
  },
  {
   "cell_type": "code",
   "execution_count": null,
   "metadata": {},
   "outputs": [],
   "source": [
    "z = np.sin(5.*x_blob) + rng.normal(0, 0.1, 1000) # create a noisy sin wave\n",
    "z_average = scipy.stats.binned_statistic_2d(x_blob, y_blob, z, statistic='mean', bins=[np.linspace(-3, 3, 21), np.linspace(-3, 3, 21)]) # calculate the mean of z in each bin\n",
    "\n",
    "plt.imshow(z_average.statistic.T, # Transpose the array so that it is oriented correctly\n",
    "           extent=[-3, 3, -3, 3], # tells it the range of the data in x & y\n",
    "           origin='lower') # tells it to plot the origin in the lower left\n",
    "\n",
    "plt.xlabel('x')\n",
    "plt.ylabel('y')\n",
    "plt.colorbar(label='mean z')\n",
    "plt.show()"
   ]
  },
  {
   "cell_type": "code",
   "execution_count": null,
   "metadata": {},
   "outputs": [],
   "source": []
  },
  {
   "cell_type": "markdown",
   "metadata": {},
   "source": [
    "## Important Python details\n",
    "\n",
    "### Indentation\n",
    "Python uses indentation to define blocks of code. This is different from many other languages, which use curly braces or similar. This means that you need to be careful with your indentation.\n",
    "\n",
    "### Functions\n",
    "Functions in Python are defined using the `def` keyword. They can take any number of arguments and can return any number of values. A few examples are given below.\n"
   ]
  },
  {
   "cell_type": "markdown",
   "metadata": {},
   "source": [
    "# Phase-space density"
   ]
  },
  {
   "cell_type": "markdown",
   "metadata": {},
   "source": [
    "Now we've done a quick introduction to Python notebooks for anyone who needs it, we can move on to the meat of the workshop.\n",
    "\n",
    "First of all, we are going to look at the evolution of phase-space density in a simple system, namely the behaviour of a large number of equivalent pendulums.\n",
    "\n",
    "We're going to make the simplifying assumption that the pendulums are all of mass 1kg and length 1m. This means that our equations of motion are relatively simple. You have the equations of motion in the notes, and I will implement it below for small swings of the pendulum, i.e., in the limit $\\sin\\theta = \\theta$."
   ]
  },
  {
   "cell_type": "code",
   "execution_count": 24,
   "metadata": {},
   "outputs": [],
   "source": [
    "# equations of motion for a phase-space point corresponding to our pendulum, in the limit of small angles\n",
    "\n",
    "phase_space_point_0 = np.array([0.05, 0]) # initial angle and momentum\n",
    "amplitude = np.sqrt(phase_space_point_0[0]**2 + phase_space_point_0[1]**2*g) # amplitude of the oscillation\n",
    "g = 9.8 # m s^{-2}\n",
    "\n",
    "def time_derivative_small_angle(phase_space_point, time): \n",
    "    '''Compute the time derivative of a phase-space point for a 1m, 1kg pendulum in the small angle limit\n",
    "    \n",
    "    Note that the time argument is not used in this function, but it is necessary for the integration function to work'''\n",
    "    angle = phase_space_point[0]\n",
    "    momentum = phase_space_point[1]\n",
    "    angle_derivative = momentum # because m & l are 1\n",
    "    momentum_derivative = -g * angle # because m & l are 1 and small angle approximation\n",
    "    return [angle_derivative, momentum_derivative]\n"
   ]
  },
  {
   "cell_type": "markdown",
   "metadata": {},
   "source": [
    "### We're going to use a scipy package to follow the evolution of the pendulum.\n",
    "\n",
    "Generally, we need to use numerical integration to follow the evolution of a phase-space point. For a simple pendulum we can also solve this analytically, but we're going to use the numerical integration to show you how it works."
   ]
  },
  {
   "cell_type": "code",
   "execution_count": 21,
   "metadata": {},
   "outputs": [],
   "source": [
    "t_numerical = np.linspace(0, 10, 500) # The values of t at which I want the integrator to give me results\n",
    "results = integrate.odeint(func=time_derivative_small_angle, \n",
    "                           y0=phase_space_point_0, \n",
    "                           t=t_numerical)"
   ]
  },
  {
   "cell_type": "markdown",
   "metadata": {},
   "source": [
    "In this case we can compare to the analytical solution, which is a simple harmonic oscillator.\n",
    "\n",
    "$\\theta = 0.05 \\cos(\\sqrt{g}t)$  \n",
    "$p_\\theta = -0.05\\sqrt{g}\\sin(\\sqrt{g}t) $"
   ]
  },
  {
   "cell_type": "code",
   "execution_count": null,
   "metadata": {},
   "outputs": [],
   "source": [
    "fig, ax = plt.subplots(1,3, figsize=(12,3))\n",
    "t = np.linspace(0,2*np.pi/np.sqrt(g), 50)\n",
    "omega = np.sqrt(g)\n",
    "\n",
    "theta_numerical = results[:,0] # the first column of the results array is the angle\n",
    "p_theta_numerical = results[:,1] # the second column of the results array is the momentum\n",
    "\n",
    "ax[0].plot(t_numerical, theta_numerical, label='numerical')\n",
    "ax[0].plot(t, amplitude*np.cos(t*omega), 'x',label='analytical')\n",
    "ax[0].set_xlabel('t')\n",
    "ax[0].set_ylabel(r'$\\theta$')\n",
    "ax[0].set_xlim(0,2*np.pi/np.sqrt(g))\n",
    "ax[0].legend(frameon=False)\n",
    "\n",
    "ax[1].plot(t_numerical, p_theta_numerical, label='numerical')\n",
    "ax[1].plot(t, -amplitude*omega*np.sin(omega*t), 'x',label='analytical')\n",
    "ax[1].set_xlabel('t')\n",
    "ax[1].set_ylabel(r'$p_\\theta$')\n",
    "ax[1].set_xlim(0,2*np.pi/np.sqrt(g))\n",
    "\n",
    "\n",
    "ax[2].plot(theta_numerical, p_theta_numerical, label='numerical')\n",
    "ax[2].plot(amplitude*np.cos(t*omega), -amplitude*omega*np.sin(omega*t), 'x',label='analytical')\n",
    "ax[2].set_xlabel(r'$\\theta$')\n",
    "ax[2].set_ylabel(r'$p_\\theta$')\n",
    "plt.legend(frameon=False)\n",
    "plt.tight_layout()\n",
    "plt.show()"
   ]
  },
  {
   "cell_type": "markdown",
   "metadata": {},
   "source": [
    "# Your turn!"
   ]
  },
  {
   "cell_type": "markdown",
   "metadata": {},
   "source": [
    "Now I want you to write some code to calculate the phase-space trajectory of a pendulum, now for the general case where $\\sin\\theta \\neq \\theta$."
   ]
  },
  {
   "cell_type": "code",
   "execution_count": null,
   "metadata": {},
   "outputs": [],
   "source": [
    "def time_derivative_pendulum(phase_space_point, time):\n",
    "    '''Compute the time derivative of a phase-space point for a 1m, 1kg pendulum for any angle\n",
    "    \n",
    "    You will need to write this function, following the pattern of the small angle function above'''\n",
    "    angle = phase_space_point[0]\n",
    "    momentum = phase_space_point[1]\n",
    "    angle_derivative = momentum # because m & l are 1\n",
    "    momentum_derivative = -g * np.sin(angle) # because m & l are 1 \n",
    "    return [angle_derivative, momentum_derivative]\n",
    "\n",
    "\n",
    "\n",
    "phase_space_point_0 = np.array([0.05, 0]) # initial angle and momentum\n",
    "amplitude = np.sqrt(phase_space_point_0[0]**2 + phase_space_point_0[1]**2*g) # amplitude of the oscillation\n",
    "\n",
    "# Do the same kind of integral as before, you can use the same starting point and t\n",
    "t_numerical = np.linspace(0, 10, 500) # The values of t at which I want the integrator to give me results\n",
    "results = integrate.odeint(func=time_derivative_pendulum, \n",
    "                           y0=phase_space_point_0, \n",
    "                           t=t_numerical)\n",
    "\n",
    "# Plot the results\n",
    "\n",
    "fig, ax = plt.subplots(1,3, figsize=(12,3))\n",
    "t = np.linspace(0,2*np.pi/np.sqrt(g), 50)\n",
    "omega = np.sqrt(g)\n",
    "\n",
    "theta_numerical = results[:,0] # the first column of the results array is the angle\n",
    "p_theta_numerical = results[:,1] # the second column of the results array is the momentum\n",
    "\n",
    "ax[0].plot(t_numerical, theta_numerical, label='numerical')\n",
    "ax[0].plot(t, amplitude*np.cos(t*omega), 'x',label='analytical')\n",
    "ax[0].set_xlabel('t')\n",
    "ax[0].set_ylabel(r'$\\theta$')\n",
    "ax[0].set_xlim(0,2*np.pi/np.sqrt(g))\n",
    "ax[0].legend(frameon=False)\n",
    "\n",
    "ax[1].plot(t_numerical, p_theta_numerical, label='numerical')\n",
    "ax[1].plot(t, -amplitude*omega*np.sin(omega*t), 'x',label='analytical')\n",
    "ax[1].set_xlabel('t')\n",
    "ax[1].set_ylabel(r'$p_\\theta$')\n",
    "ax[1].set_xlim(0,2*np.pi/np.sqrt(g))\n",
    "\n",
    "\n",
    "ax[2].plot(theta_numerical, p_theta_numerical, label='numerical')\n",
    "ax[2].plot(amplitude*np.cos(t*omega), -amplitude*omega*np.sin(omega*t), 'x',label='analytical')\n",
    "ax[2].set_xlabel(r'$\\theta$')\n",
    "ax[2].set_ylabel(r'$p_\\theta$')\n",
    "plt.legend(frameon=False)\n",
    "plt.tight_layout()\n",
    "plt.show()\n"
   ]
  },
  {
   "cell_type": "markdown",
   "metadata": {},
   "source": [
    "## Do the same for many pendulums to create a map of the possible phase-space trajectories "
   ]
  },
  {
   "cell_type": "code",
   "execution_count": null,
   "metadata": {},
   "outputs": [],
   "source": [
    "# Here I create a 10 by 2 array containing the initial phase space points, with the angles evenly spaced between 0 and 0.9pi\n",
    "\n",
    "n_starting_points = 10\n",
    "initial_thetas = np.linspace(0., 0.9*np.pi, n_starting_points)\n",
    "initial_p_thetas = np.zeros_like(initial_thetas)\n",
    "initial_phase_space_points = np.array([initial_thetas, initial_p_thetas]).T # the .T is a transpose, so that the array is the right shape\n",
    "\n",
    "\n",
    "for i in range(n_starting_points):\n",
    "    # Integrate the equations of motion for the starting point, which is initial_phase_space_points[i]\n",
    "    results = integrate.odeint(func=time_derivative_pendulum, \n",
    "                           y0=initial_phase_space_points[i], \n",
    "                           t=t_numerical)\n",
    "    # Plot the results in the theta-p_theta plane (no need to plot the time evolution)\n",
    "    \n",
    "    theta_numerical = results[:,0] # the first column of the results array is the angle\n",
    "    p_theta_numerical = results[:,1] # the second column of the results array is the momentum\n",
    "    plt.plot(theta_numerical, p_theta_numerical)\n",
    "plt.xlabel(r'$\\theta$')\n",
    "plt.ylabel(r'$p_\\theta$')\n",
    "plt.show()\n",
    "\n",
    "\n",
    "\n"
   ]
  },
  {
   "cell_type": "markdown",
   "metadata": {},
   "source": [
    "You should produce plots that show concentric rings around the centre, but for the pendulums released at larger angles, the rings should be less circular/elliptical."
   ]
  },
  {
   "cell_type": "markdown",
   "metadata": {},
   "source": [
    "## Phase-space density\n",
    "\n",
    "You will now look at the evolution of the phase-space density of the pendulum system. To do this we're look at the evolution of the area bounded by 4 points that start in a small square in phase-space.\n",
    "\n",
    "If phase-space density is to be conserved, then the area should remain constant."
   ]
  },
  {
   "cell_type": "code",
   "execution_count": null,
   "metadata": {},
   "outputs": [],
   "source": []
  },
  {
   "cell_type": "code",
   "execution_count": null,
   "metadata": {},
   "outputs": [],
   "source": [
    "# the four corners of a square in phase space\n",
    "initial_phase_space_square = np.array([[1,1], [1,1.2], [1.2,1.2], [1.2,1], [1.001,1]])\n",
    "# the last point is very close to the first, to close the area reasonably well \n",
    "\n",
    "all_output = np.zeros((len(initial_phase_space_square), len(t_numerical), 2)) \n",
    "# create an array to store the results of the integrations\n",
    "\n",
    "for i in range(len(initial_phase_space_square)):\n",
    "    # Integrate the equations of motion for the starting point, which is initial_phase_space_square[i]\n",
    "    results = integrate.odeint(func=time_derivative_pendulum, \n",
    "                           y0=initial_phase_space_square[i], \n",
    "                           t=t_numerical)\n",
    "    all_output[i] = results # replace zero here wih the output of the integration\n",
    "\n",
    "time_plot = [0, 100, 200, 300] # the times at which I want to plot the results\n",
    "\n",
    "for tp in time_plot:\n",
    "    plt.plot(all_output[:,tp,0], all_output[:,tp,1], label=f't={t_numerical[tp]:.2f}')    \n",
    "plt.xlabel(r'$\\theta$')\n",
    "plt.ylabel(r'$p_\\theta$')\n",
    "plt.legend()\n",
    "plt.show()\n"
   ]
  },
  {
   "cell_type": "markdown",
   "metadata": {},
   "source": [
    "## Just for fun, in case you have the relevant packages installed, you can make an animation of the evolution of the phase space square\n",
    "\n",
    "### Turn this cell into a python cell (rather than markdown) to run the code. Be sure to also uncomment one of the last two lines to save the animation or display it in the notebook.\n",
    "\n",
    "import matplotlib.animation as animation\n",
    "from IPython.display import HTML\n",
    "\n",
    "fig, ax = plt.subplots()\n",
    "ax.set_xlim(-1.5, 1.5)\n",
    "ax.set_ylim(-4.5, 4.5)\n",
    "line, = ax.plot([], [])\n",
    "\n",
    "def init():\n",
    "    line.set_data([], [])\n",
    "    return line,\n",
    "\n",
    "def animate(i):\n",
    "    line.set_data(all_output[:,i,0], all_output[:,i,1])\n",
    "    return line,\n",
    "\n",
    "plt.xlabel(r'$\\theta$')\n",
    "plt.ylabel(r'$p_\\theta$')\n",
    "\n",
    "ani = animation.FuncAnimation(fig, animate, frames=len(t_numerical), init_func=init, blit=True)\n",
    "\n",
    "plt.close()\n",
    "\n",
    "#ani.save('pendulum_evolution.mp4', writer='ffmpeg', fps=30)  # one of these might work for you\n",
    "#HTML(ani.to_html5_video()) # one of these might work for you\n",
    "\n",
    "\n"
   ]
  },
  {
   "cell_type": "markdown",
   "metadata": {},
   "source": [
    "## Find the area as a function of time\n",
    "\n",
    "We should find that area is conserved (and therefore phase-space density is conserved). But in reality we have used too simple a method, and the area stops being a simple quadrilateral."
   ]
  },
  {
   "cell_type": "code",
   "execution_count": null,
   "metadata": {},
   "outputs": [],
   "source": [
    "def PolyArea(x,y):\n",
    "    '''A function that calculates the area of a polygon given the x and y coordinates of its vertices'''\n",
    "    # Thanks to the writer of the top answer here: \n",
    "    # https://stackoverflow.com/questions/24467972/calculate-area-of-polygon-given-x-y-coordinates\n",
    "    return 0.5*np.abs(np.dot(x,np.roll(y,1))-np.dot(y,np.roll(x,1)))\n",
    "\n",
    "# Using the function above (or otherwise), calculate the area of the square in phase space as a function of time\n",
    "for i in range(len(t_numerical)):\n",
    "    area = PolyArea(all_output[:,i,0], all_output[:,i,1])\n",
    "    plt.plot(t_numerical[i], area, 'bx')\n",
    "plt.xlabel('t')\n",
    "plt.ylabel('area')\n",
    "plt.show()"
   ]
  },
  {
   "cell_type": "markdown",
   "metadata": {},
   "source": []
  }
 ],
 "metadata": {
  "kernelspec": {
   "display_name": "Agama_env",
   "language": "python",
   "name": "python3"
  },
  "language_info": {
   "codemirror_mode": {
    "name": "ipython",
    "version": 3
   },
   "file_extension": ".py",
   "mimetype": "text/x-python",
   "name": "python",
   "nbconvert_exporter": "python",
   "pygments_lexer": "ipython3",
   "version": "3.12.4"
  }
 },
 "nbformat": 4,
 "nbformat_minor": 2
}
