{
 "cells": [
  {
   "cell_type": "code",
   "execution_count": 1,
   "metadata": {},
   "outputs": [],
   "source": [
    "import numpy as np\n",
    "import matplotlib.pyplot as plt"
   ]
  },
  {
   "cell_type": "code",
   "execution_count": 4,
   "metadata": {},
   "outputs": [],
   "source": [
    "\n",
    "G, M = 1, 1\n",
    "\n",
    "def Grav(pos):\n",
    "    r = np.sqrt(pos[0]**2 + pos[1]**2 + pos[2]**2)\n",
    "    return -G*M/r**3 * pos"
   ]
  },
  {
   "cell_type": "markdown",
   "metadata": {},
   "source": [
    "## The set-up\n",
    "\n",
    "I have given (above) potential around a central mass $M=1$ that is spherically symmetric. I am also writing $G=1$ to simplify my computations.\n",
    "\n",
    "I'm going to follow an orbit that has a semi-major axis $a=1$ and an eccentricity of $e=0.3$. Since I know the full solution for this orbit, I can use it to test my numerical integrator.\n",
    "\n",
    "I know that the path is traced out by\n",
    "\n",
    "$r(\\psi) = \\frac{a(1-e^2)}{1+e\\cos(\\psi-\\psi_0)}$ where $\\psi$ describes the phase.\n",
    "\n",
    "So the angular momentum is given by $L = \\sqrt{GMa(1-e^2)}$ and the maximum distance form the central mass is $r_{max}=a(1+e)$. \n",
    "\n",
    "I also know that the period of the orbit is given by $T = 2\\pi a^{3/2}\\sqrt{\\frac{1}{GM}}$."
   ]
  },
  {
   "cell_type": "code",
   "execution_count": 7,
   "metadata": {},
   "outputs": [],
   "source": [
    "a = 1\n",
    "e = 0.3\n",
    "L = np.sqrt(G*M*a*(1-e**2))\n",
    "r_max = a*(1+e)"
   ]
  },
  {
   "cell_type": "code",
   "execution_count": null,
   "metadata": {},
   "outputs": [],
   "source": [
    "def EulerIntegratorStep(Gravfunc, pos, vel, dt):\n",
    "    '''Fill this in during the lecture'''"
   ]
  },
  {
   "cell_type": "code",
   "execution_count": null,
   "metadata": {},
   "outputs": [],
   "source": [
    "# Initial conditions\n",
    "\n",
    "\n",
    "# Time step\n",
    "\n",
    "# Integrate orbit"
   ]
  },
  {
   "cell_type": "code",
   "execution_count": null,
   "metadata": {},
   "outputs": [],
   "source": [
    "# True (analytic) solution\n",
    "psi = np.linspace(0, 2*np.pi, 100)\n",
    "r_psi = a*(1-e**2)/(1+e*np.cos(psi))\n",
    "plt.plot(-r_psi*np.cos(psi), r_psi*np.sin(psi), '.')"
   ]
  },
  {
   "cell_type": "code",
   "execution_count": null,
   "metadata": {},
   "outputs": [],
   "source": []
  },
  {
   "cell_type": "code",
   "execution_count": null,
   "metadata": {},
   "outputs": [],
   "source": []
  },
  {
   "cell_type": "code",
   "execution_count": null,
   "metadata": {},
   "outputs": [],
   "source": []
  },
  {
   "cell_type": "code",
   "execution_count": null,
   "metadata": {},
   "outputs": [],
   "source": []
  },
  {
   "cell_type": "code",
   "execution_count": null,
   "metadata": {},
   "outputs": [],
   "source": []
  },
  {
   "cell_type": "code",
   "execution_count": null,
   "metadata": {},
   "outputs": [],
   "source": []
  },
  {
   "cell_type": "code",
   "execution_count": null,
   "metadata": {},
   "outputs": [],
   "source": []
  },
  {
   "cell_type": "code",
   "execution_count": null,
   "metadata": {},
   "outputs": [],
   "source": []
  },
  {
   "cell_type": "code",
   "execution_count": null,
   "metadata": {},
   "outputs": [],
   "source": []
  },
  {
   "cell_type": "code",
   "execution_count": null,
   "metadata": {},
   "outputs": [],
   "source": []
  },
  {
   "cell_type": "code",
   "execution_count": null,
   "metadata": {},
   "outputs": [],
   "source": []
  },
  {
   "cell_type": "code",
   "execution_count": 9,
   "metadata": {},
   "outputs": [],
   "source": [
    "def EulerIntegrator(Gravfunc, pos, vel, dt):\n",
    "    acc = Gravfunc(pos)\n",
    "    pos += vel*dt\n",
    "    vel += acc*dt\n",
    "    return pos, vel"
   ]
  },
  {
   "cell_type": "code",
   "execution_count": 22,
   "metadata": {},
   "outputs": [],
   "source": [
    "# initial conditions\n",
    "pos0 = np.array([r_max, 0, 0])\n",
    "vel0 = np.array([0, L/r_max, 0])\n",
    "\n",
    "dt = 0.001\n",
    "time = 0\n",
    "nstep = 6300\n",
    "pos_array = np.zeros((nstep, 3))\n",
    "vel_array = np.zeros((nstep, 3))\n",
    "\n",
    "# initialise\n",
    "pos, vel = pos0, vel0\n",
    "\n",
    "for i in range(nstep):\n",
    "    pos_array[i] = pos\n",
    "    vel_array[i] = vel\n",
    "    pos, vel = EulerIntegrator(Grav, pos, vel, dt) # take a step\n",
    "    time += dt\n",
    "\n",
    "\n"
   ]
  },
  {
   "cell_type": "code",
   "execution_count": null,
   "metadata": {},
   "outputs": [],
   "source": [
    "plt.plot(pos_array[:,0], pos_array[:,1])\n",
    "psi = np.linspace(0, 2*np.pi, 100)\n",
    "r_psi = a*(1-e**2)/(1+e*np.cos(psi))\n",
    "plt.plot(-r_psi*np.cos(psi), r_psi*np.sin(psi), '.')\n",
    "plt.axis('equal')\n",
    "plt.show()"
   ]
  },
  {
   "cell_type": "code",
   "execution_count": null,
   "metadata": {},
   "outputs": [],
   "source": []
  },
  {
   "cell_type": "code",
   "execution_count": null,
   "metadata": {},
   "outputs": [],
   "source": []
  },
  {
   "cell_type": "code",
   "execution_count": null,
   "metadata": {},
   "outputs": [],
   "source": []
  }
 ],
 "metadata": {
  "kernelspec": {
   "display_name": "Agama_env",
   "language": "python",
   "name": "python3"
  },
  "language_info": {
   "codemirror_mode": {
    "name": "ipython",
    "version": 3
   },
   "file_extension": ".py",
   "mimetype": "text/x-python",
   "name": "python",
   "nbconvert_exporter": "python",
   "pygments_lexer": "ipython3",
   "version": "3.12.4"
  }
 },
 "nbformat": 4,
 "nbformat_minor": 2
}
