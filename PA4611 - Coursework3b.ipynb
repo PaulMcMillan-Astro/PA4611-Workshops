{
 "cells": [
  {
   "cell_type": "markdown",
   "metadata": {},
   "source": [
    "# Coursework for PA4611\n",
    "\n",
    "This notebook contains coursework for PA4611 \"Computational Fluid and Phase-Space Flows\" at University of Leicester.\n",
    "\n",
    "This piece of course is the second half of the second, and final, computational project. It is focussed on computational hydrodynamics, in this case using a grid solver to follow behaviour in 2 dimensions. Please refer to the associated slides for some key science and theory."
   ]
  },
  {
   "cell_type": "markdown",
   "metadata": {},
   "source": [
    "## Ulula - a 2D grid solver\n",
    "For this piece of coursework you do not need to write your own grid-solver for hydrodynamics. Instead, you will be using one that has already written. It is called Ulula, and was written by Benedikt Diemer (University of Maryland).\n",
    "\n",
    "The version you will be using is one that I have adapted slightly to do the things I want it to do, but the overwhelming majority of the code is Diemer's. \n",
    "\n",
    "You should download the code from the course Github page: https://bitbucket.org/PaulMcMillan-Astro/ulula/src/master/, and there is documentation for most of it here: https://bdiemer.bitbucket.io/ulula/index.html"
   ]
  },
  {
   "cell_type": "markdown",
   "metadata": {},
   "source": [
    "## Installation\n",
    "\n",
    "The code is in the course Github repository and can be copied from there. The main ways to do that would be:\n",
    "\n",
    "1. Using the command line: \n",
    "    - If you have not used git to get a copy of the course repository then `git clone https://github.com/PaulMcMillan-Astro/PA4611-Workshops.git` or, if you really know what you're doing `git clone git@github.com:PaulMcMillan-Astro/PA4611-Workshops.git`\n",
    "    - If you have already cloned the repository then you can just `git pull` to get the latest version.\n",
    "2. Using the web interface: go to the repository and download the zip file. (You will need to click on the button saying 'Code' to download the zip file.)\n",
    "    - You will need to unzip the file and move the directory to where you want it to be (ideally the directory this notebook is in).\n",
    "3. From Blackboard. I have put the zip file `ulula.zip`, which I will aim to keep fully up-to-date. You should download this and unzip it in the directory where you want to work.\n",
    "\n",
    "You may need to use the lines of code using `sys.path' to make sure the notebook can use the Ulula code.\n",
    "\n",
    "To make Ulula work you need the usual packages (numpy, scipy & matplotlib) and h5py and six. You can install these using conda install or pip install."
   ]
  },
  {
   "cell_type": "markdown",
   "metadata": {},
   "source": [
    "## The final project - The Kelvin-Helmholtz instability\n",
    "\n",
    "The final project is to investigate the Kelvin-Helmholtz instability. This is a hydrodynamic instability that occurs when there is a velocity shear between two fluids. It is a common feature in astrophysical flows.\n",
    "\n",
    "You will use the Ulula code to investigate how this instability develops in a 2D grid. The code allows you to set-up and run the code in a variety of ways, and you should experiment with different parameters to see how the instability develops."
   ]
  },
  {
   "cell_type": "markdown",
   "metadata": {},
   "source": [
    "# Warning\n",
    "\n",
    "This notebook is not filled out fully yet, but you can use it to look at the code you'll be using\n",
    "\n",
    "# Warning"
   ]
  },
  {
   "cell_type": "code",
   "execution_count": null,
   "metadata": {},
   "outputs": [],
   "source": [
    "import sys\n",
    "\n",
    "# Gives the path of the ulula. Here it is assumed to a directory \n",
    "# in the same directory as this notebook. If you change that, change this line.\n",
    "sys.path.insert(0,'./ulula') \n"
   ]
  },
  {
   "cell_type": "code",
   "execution_count": null,
   "metadata": {},
   "outputs": [],
   "source": [
    "# The key bits of ulula for this project\n",
    "import ulula.setups.kelvin_helmholtz as setup_kh\n",
    "import ulula.run as ulula_run\n",
    "import ulula.simulation as ulula_sim"
   ]
  },
  {
   "cell_type": "markdown",
   "metadata": {},
   "source": [
    "## Running a simulation (example settings)\n",
    "\n",
    "Let's start by showing you want can be produced by running a simulation. The simulation below starts with a simple Kelvin-Helmholtz-unstable system, then evolves it until t=3 on a 200x200 grid using no reconstruction, Euler integration, and $\\alpha_{cfl}$ value of 0.5, plotting the density and x-velocity every 0.5 time units. The fluid layers both have adiabatic index $\\gamma=5/3$, so $P\\propto \\rho^{5/3}$.\n",
    "\n",
    "The plots are placed in the directory plots/example (which is created automatically if not already in place). Each plot is given the suffix CE (which I chose because it is a 'const' reconstruction and Euler timestepping). You should choose your own plot directory and suffix for your own plots."
   ]
  },
  {
   "cell_type": "code",
   "execution_count": null,
   "metadata": {},
   "outputs": [],
   "source": [
    "setup_basic = setup_kh.SetupKelvinHelmholtz(sharp_ics=False, n_waves=1, rho1=2.0, velocity_difference=1.0,)\n",
    "hs_basic = ulula_sim.HydroScheme(reconstruction = 'const', time_integration= 'euler', cfl = 0.5)\n",
    "\n",
    "kwargs_basic = dict(tmax = 3.0, nx = 200, plot_time = 0.5, q_plot = ['DN', 'VX'], plot_dir = 'plots/example', plot_suffix='CE')\n",
    "ulula_run.run(setup_basic, hydro_scheme=hs_basic, **kwargs_basic)"
   ]
  },
  {
   "cell_type": "markdown",
   "metadata": {},
   "source": [
    "The results there are very blurry, and don't look at all like the results that we would hope for. Fortunately we have various parameters of the simulation that we can alter to improve/change the simulation. I will explain them below, but you should also look at the documentation, and into the ulula code itself, to see what else you can do.\n",
    "\n",
    "One useful thing to do is to look at the documentation string for each function used above. I will show a simple way of doing that below. "
   ]
  },
  {
   "cell_type": "markdown",
   "metadata": {},
   "source": [
    "## The functions and their parameters\n",
    "### setup_kh.SetupKelvinHelmholtz\n",
    "\n",
    "This is used to set up the simulation given the choice of parameters. When the simulation actually runs it uses this 'object' (called setup_basic for the example above) to set up the particular simulation."
   ]
  },
  {
   "cell_type": "code",
   "execution_count": null,
   "metadata": {},
   "outputs": [],
   "source": [
    "# Get the help string for the setup code\n",
    "?setup_kh.SetupKelvinHelmholtz\n",
    "# Or you can do it this way:\n",
    "#help(setup_kh.SetupKelvinHelmholtz)"
   ]
  },
  {
   "cell_type": "markdown",
   "metadata": {},
   "source": [
    "You can choose whether you want a sharp divide between the fluids initially, how many waves you want in the seed perturbation, and the density of the denser fluid and the relative velocities of the fluid."
   ]
  },
  {
   "cell_type": "markdown",
   "metadata": {},
   "source": [
    "### ulula_sim.HydroScheme\n",
    "Defines how the simulation will solve the fluid-dynamical equations. For the example above I have called this  hs_basic"
   ]
  },
  {
   "cell_type": "code",
   "execution_count": null,
   "metadata": {},
   "outputs": [],
   "source": [
    "?ulula_sim.HydroScheme"
   ]
  },
  {
   "cell_type": "markdown",
   "metadata": {},
   "source": [
    "The options are:  \n",
    "reconstruction can be 'const' or 'linear', i.e., either constant within each bin or with a linear reconstruction within each bin.  \n",
    "limiter can be 'none', 'minmod', 'vanleer' or 'mc'. These are only used if there is a linear reconstruction.  \n",
    "riemann can only be 'hll' so no need to change that.  \n",
    "time_integration can be 'euler', 'hancock' or 'hancock_cons'\n",
    "cfl should be a value between $0$ and $1$ because otherwise the\n",
    "\n",
    " (Note that in each case the parameters need to be given as strings, i.e. in quote marks)"
   ]
  },
  {
   "cell_type": "markdown",
   "metadata": {},
   "source": [
    "### ulula_run.run\n",
    "\n",
    "This is the command that runs the simulation itself. It takes the setup and HydroScheme objects as arguments, and also a number of other arguments...\n"
   ]
  },
  {
   "cell_type": "code",
   "execution_count": null,
   "metadata": {},
   "outputs": [],
   "source": [
    "?ulula_run.run"
   ]
  },
  {
   "cell_type": "code",
   "execution_count": null,
   "metadata": {},
   "outputs": [],
   "source": []
  },
  {
   "cell_type": "code",
   "execution_count": null,
   "metadata": {},
   "outputs": [],
   "source": [
    "#<img src=\"plots/example/ulula_kh_time_0.0000CE.png\" alt=\"alt text\" width=\"200\"/>\n",
    "\n",
    "#![alt text](plots/example/ulula_kh_time_0.0000CE.png)"
   ]
  }
 ],
 "metadata": {
  "kernelspec": {
   "display_name": "ULUVA_env",
   "language": "python",
   "name": "python3"
  },
  "language_info": {
   "codemirror_mode": {
    "name": "ipython",
    "version": 3
   },
   "file_extension": ".py",
   "mimetype": "text/x-python",
   "name": "python",
   "nbconvert_exporter": "python",
   "pygments_lexer": "ipython3",
   "version": "3.12.4"
  }
 },
 "nbformat": 4,
 "nbformat_minor": 2
}
