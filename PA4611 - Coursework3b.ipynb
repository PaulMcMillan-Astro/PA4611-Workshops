{
 "cells": [
  {
   "cell_type": "markdown",
   "metadata": {},
   "source": [
    "# Coursework for PA4611\n",
    "\n",
    "This notebook contains coursework for PA4611 \"Computational Fluid and Phase-Space Flows\" at University of Leicester.\n",
    "\n",
    "This piece of course is the second half of the second, and final, computational project. It is focussed on computational hydrodynamics, in this case using a grid solver to follow behaviour in 2 dimensions. Please refer to the associated slides for some key science and theory."
   ]
  },
  {
   "cell_type": "markdown",
   "metadata": {},
   "source": [
    "## Ulula - a 2D grid solver\n",
    "For this piece of coursework you do not need to write your own grid-solver for hydrodynamics. Instead, you will be using one that has already written. It is called Ulula, and was written by Benedikt Diemer (University of Maryland).\n",
    "\n",
    "The version you will be using is one that I have adapted slightly to do the things I want it to do, but the overwhelming majority of the code is Diemer's. \n",
    "\n",
    "You should download the code from the course Github page: https://bitbucket.org/PaulMcMillan-Astro/ulula/src/master/, and there is documentation for most of it here: https://bdiemer.bitbucket.io/ulula/index.html"
   ]
  },
  {
   "cell_type": "markdown",
   "metadata": {},
   "source": [
    "## Installation\n",
    "\n",
    "The code is in the course Github repository and can be copied from there. The main ways to do that would be:\n",
    "\n",
    "1. Using the command line: \n",
    "    - If you have not used git to get a copy of the course repository then `git clone https://github.com/PaulMcMillan-Astro/PA4611-Workshops.git` or, if you really know what you're doing `git clone git@github.com:PaulMcMillan-Astro/PA4611-Workshops.git`\n",
    "    - If you have already cloned the repository then you can just `git pull` to get the latest version.\n",
    "2. Using the web interface: go to the repository and download the zip file. (You will need to click on the button saying 'Code' to download the zip file.)\n",
    "    - You will need to unzip the file and move the directory to where you want it to be (ideally the directory this notebook is in).\n",
    "3. From Blackboard. I have put the zip file `ulula.zip`, which I will aim to keep fully up-to-date. You should download this and unzip it in the directory where you want to work.\n",
    "\n",
    "You may need to use the lines of code using `sys.path' to make sure the notebook can use the Ulula code.\n",
    "\n",
    "To make Ulula work you need the usual packages (numpy, scipy & matplotlib) and h5py and six. You can install these using conda install or pip install."
   ]
  },
  {
   "cell_type": "markdown",
   "metadata": {},
   "source": [
    "## The final project - The Kelvin-Helmholtz instability\n",
    "\n",
    "The final project is to investigate the Kelvin-Helmholtz instability. This is a hydrodynamic instability that occurs when there is a velocity shear between two fluids. It is a common feature in astrophysical flows.\n",
    "\n",
    "You will use the Ulula code to investigate how this instability develops in a 2D grid. The code allows you to set-up and run the code in a variety of ways, and you should experiment with different parameters to see how the instability develops."
   ]
  },
  {
   "cell_type": "markdown",
   "metadata": {},
   "source": [
    "# Warning\n",
    "\n",
    "This notebook is not filled out fully yet, but you can use it to look at the code you'll be using\n",
    "\n",
    "# Warning"
   ]
  },
  {
   "cell_type": "code",
   "execution_count": 1,
   "metadata": {},
   "outputs": [],
   "source": [
    "import sys\n",
    "\n",
    "# Gives the path of the ulula. Here it is assumed to a directory \n",
    "# in the same directory as this notebook. If you change that, change this line.\n",
    "sys.path.insert(0,'./ulula') \n"
   ]
  },
  {
   "cell_type": "code",
   "execution_count": 2,
   "metadata": {},
   "outputs": [],
   "source": [
    "# The key bits of ulula for this project\n",
    "import ulula.setups.kelvin_helmholtz as setup_kh\n",
    "import ulula.run as ulula_run\n",
    "import ulula.simulation as ulula_sim"
   ]
  },
  {
   "cell_type": "markdown",
   "metadata": {},
   "source": [
    "## Running a simulation (example settings)\n",
    "\n",
    "Let's start by showing you want can be produced by running a simulation. The simulation below starts with a simple Kelvin-Helmholtz-unstable system, then evolves it until t=3 on a 200x200 grid using no reconstruction, Euler integration, and $\\alpha_{cfl}$ value of 0.5, plotting the density and x-velocity every 0.5 time units. The fluid layers both have adiabatic index $\\gamma=5/3$, so $P\\propto \\rho^{5/3}$.\n",
    "\n",
    "The plots are placed in the directory plots/example (which is created automatically if not already in place). Each plot is given the suffix CE (which I chose because it is a 'const' reconstruction and Euler timestepping). You should choose your own plot directory and suffix for your own plots."
   ]
  },
  {
   "cell_type": "code",
   "execution_count": 3,
   "metadata": {},
   "outputs": [
    {
     "name": "stdout",
     "output_type": "stream",
     "text": [
      "Setting up Kelvin-Helmholtz instability\n",
      "running...\n",
      "Grid setup 200 x 200, dimensions x = [0.00e+00 .. 1.00e+00] y =  [0.00e+00 .. 1.00e+00]\n",
      "Timestep   100, dt = 9.84e-04, t = 9.84e-02\n",
      "Timestep   200, dt = 9.80e-04, t = 1.97e-01\n",
      "Timestep   300, dt = 9.80e-04, t = 2.95e-01\n",
      "Timestep   400, dt = 9.82e-04, t = 3.93e-01\n",
      "Timestep   500, dt = 9.83e-04, t = 4.91e-01\n",
      "Timestep   600, dt = 9.86e-04, t = 5.89e-01\n",
      "Timestep   700, dt = 9.89e-04, t = 6.88e-01\n",
      "Timestep   800, dt = 9.92e-04, t = 7.87e-01\n",
      "Timestep   900, dt = 9.97e-04, t = 8.86e-01\n",
      "Timestep  1000, dt = 1.00e-03, t = 9.86e-01\n",
      "Timestep  1100, dt = 1.01e-03, t = 1.09e+00\n",
      "Timestep  1200, dt = 1.01e-03, t = 1.19e+00\n",
      "Timestep  1300, dt = 1.02e-03, t = 1.29e+00\n",
      "Timestep  1400, dt = 1.02e-03, t = 1.39e+00\n",
      "Timestep  1500, dt = 1.03e-03, t = 1.49e+00\n",
      "Timestep  1600, dt = 1.04e-03, t = 1.60e+00\n",
      "Timestep  1700, dt = 1.05e-03, t = 1.70e+00\n",
      "Timestep  1800, dt = 1.05e-03, t = 1.81e+00\n",
      "Timestep  1900, dt = 1.06e-03, t = 1.91e+00\n",
      "Timestep  2000, dt = 1.07e-03, t = 2.02e+00\n",
      "Timestep  2100, dt = 1.08e-03, t = 2.13e+00\n",
      "Timestep  2200, dt = 1.09e-03, t = 2.23e+00\n",
      "Timestep  2300, dt = 1.09e-03, t = 2.34e+00\n",
      "Timestep  2400, dt = 1.10e-03, t = 2.45e+00\n",
      "Timestep  2500, dt = 1.11e-03, t = 2.56e+00\n",
      "Timestep  2600, dt = 1.12e-03, t = 2.68e+00\n",
      "Timestep  2700, dt = 1.13e-03, t = 2.79e+00\n",
      "Timestep  2800, dt = 1.14e-03, t = 2.90e+00\n",
      "Simulation finished. Took 2886 steps, 21.7 seconds, 0.008 s/step, 132.74 steps/s.\n"
     ]
    },
    {
     "data": {
      "text/plain": [
       "<ulula.simulation.Simulation at 0x107bde030>"
      ]
     },
     "execution_count": 3,
     "metadata": {},
     "output_type": "execute_result"
    }
   ],
   "source": [
    "setup_basic = setup_kh.SetupKelvinHelmholtz(sharp_ics=False, n_waves=1, rho1=2.0, velocity_difference=1.0,)\n",
    "hs_basic = ulula_sim.HydroScheme(reconstruction = 'const', time_integration= 'euler', cfl = 0.5)\n",
    "\n",
    "kwargs_basic = dict(tmax = 3.0, nx = 200, plot_time = 0.5, q_plot = ['DN', 'VX'], plot_dir = 'plots/example', plot_suffix='CE')\n",
    "ulula_run.run(setup_basic, hydro_scheme=hs_basic, **kwargs_basic)"
   ]
  },
  {
   "cell_type": "markdown",
   "metadata": {},
   "source": [
    "The results there are very blurry, and don't look at all like the results that we would hope for. Fortunately we have various parameters of the simulation that we can alter to improve/change the simulation. I will explain them below, but you should also look at the documentation, and into the ulula code itself, to see what else you can do.\n",
    "\n",
    "One useful thing to do is to look at the documentation string for each function used above. I will show a simple way of doing that below. "
   ]
  },
  {
   "cell_type": "markdown",
   "metadata": {},
   "source": [
    "## The functions and their parameters\n",
    "### setup_kh.SetupKelvinHelmholtz\n",
    "\n",
    "This is used to set up the simulation given the choice of parameters. When the simulation actually runs it uses this 'object' (called setup_basic for the example above) to set up the particular simulation."
   ]
  },
  {
   "cell_type": "code",
   "execution_count": 4,
   "metadata": {},
   "outputs": [
    {
     "name": "stdout",
     "output_type": "stream",
     "text": [
      "\u001b[0;31mInit signature:\u001b[0m\n",
      "\u001b[0msetup_kh\u001b[0m\u001b[0;34m.\u001b[0m\u001b[0mSetupKelvinHelmholtz\u001b[0m\u001b[0;34m(\u001b[0m\u001b[0;34m\u001b[0m\n",
      "\u001b[0;34m\u001b[0m    \u001b[0msharp_ics\u001b[0m\u001b[0;34m=\u001b[0m\u001b[0;32mFalse\u001b[0m\u001b[0;34m,\u001b[0m\u001b[0;34m\u001b[0m\n",
      "\u001b[0;34m\u001b[0m    \u001b[0mn_waves\u001b[0m\u001b[0;34m=\u001b[0m\u001b[0;36m1\u001b[0m\u001b[0;34m,\u001b[0m\u001b[0;34m\u001b[0m\n",
      "\u001b[0;34m\u001b[0m    \u001b[0mrho1\u001b[0m\u001b[0;34m=\u001b[0m\u001b[0;36m2.0\u001b[0m\u001b[0;34m,\u001b[0m\u001b[0;34m\u001b[0m\n",
      "\u001b[0;34m\u001b[0m    \u001b[0mvelocity_difference\u001b[0m\u001b[0;34m=\u001b[0m\u001b[0;36m1.0\u001b[0m\u001b[0;34m,\u001b[0m\u001b[0;34m\u001b[0m\n",
      "\u001b[0;34m\u001b[0m\u001b[0;34m)\u001b[0m\u001b[0;34m\u001b[0m\u001b[0;34m\u001b[0m\u001b[0m\n",
      "\u001b[0;31mDocstring:\u001b[0m     \n",
      "Kelvin-Helmholtz instability\n",
      "\n",
      "The KH instability forms at the interface between two fluids that are moving past each other.\n",
      "The user can choose between a setup where the interface is infinitely sharp and the smooth\n",
      "ICs of Robertson et al. 2010. In the sharp case, the instability is seeded by grid noise, but\n",
      "we still add a small velocity perturbation to obtain more well-defined behavior. The smooth\n",
      "version is recommended as it leads to a more physical test case.\n",
      "\n",
      "Parameters\n",
      "-----------------------------------------------------------------------------------------------\n",
      "sharp_ics: bool, default False\n",
      "        Use sharp boundary between fluids instead of smoothed ICs.\n",
      "n_waves: int, default 1\n",
      "        Number of wave periods in the domain. The number of periods that can be resolved depends on the resolution.\n",
      "rho1: float, default 2.0\n",
      "        Density of the central fluid.\n",
      "velocity_difference: float, default 1.0\n",
      "        Difference in velocity between the two fluids.\n",
      "\u001b[0;31mFile:\u001b[0m           ~/code/PA4611-Workshops/ulula/setups/kelvin_helmholtz.py\n",
      "\u001b[0;31mType:\u001b[0m           ABCMeta\n",
      "\u001b[0;31mSubclasses:\u001b[0m     "
     ]
    }
   ],
   "source": [
    "# Get the help string for the setup code\n",
    "?setup_kh.SetupKelvinHelmholtz\n",
    "# Or you can do it this way:\n",
    "#help(setup_kh.SetupKelvinHelmholtz)"
   ]
  },
  {
   "cell_type": "markdown",
   "metadata": {},
   "source": [
    "You can choose whether you want a sharp divide between the fluids initially, how many waves you want in the seed perturbation, and the density of the denser fluid and the relative velocities of the fluid."
   ]
  },
  {
   "cell_type": "markdown",
   "metadata": {},
   "source": [
    "### ulula_sim.HydroScheme\n",
    "Defines how the simulation will solve the fluid-dynamical equations. For the example above I have called this  hs_basic"
   ]
  },
  {
   "cell_type": "code",
   "execution_count": 5,
   "metadata": {},
   "outputs": [
    {
     "name": "stdout",
     "output_type": "stream",
     "text": [
      "\u001b[0;31mInit signature:\u001b[0m\n",
      "\u001b[0mulula_sim\u001b[0m\u001b[0;34m.\u001b[0m\u001b[0mHydroScheme\u001b[0m\u001b[0;34m(\u001b[0m\u001b[0;34m\u001b[0m\n",
      "\u001b[0;34m\u001b[0m    \u001b[0mreconstruction\u001b[0m\u001b[0;34m=\u001b[0m\u001b[0;34m'const'\u001b[0m\u001b[0;34m,\u001b[0m\u001b[0;34m\u001b[0m\n",
      "\u001b[0;34m\u001b[0m    \u001b[0mlimiter\u001b[0m\u001b[0;34m=\u001b[0m\u001b[0;34m'minmod'\u001b[0m\u001b[0;34m,\u001b[0m\u001b[0;34m\u001b[0m\n",
      "\u001b[0;34m\u001b[0m    \u001b[0mriemann\u001b[0m\u001b[0;34m=\u001b[0m\u001b[0;34m'hll'\u001b[0m\u001b[0;34m,\u001b[0m\u001b[0;34m\u001b[0m\n",
      "\u001b[0;34m\u001b[0m    \u001b[0mtime_integration\u001b[0m\u001b[0;34m=\u001b[0m\u001b[0;34m'euler'\u001b[0m\u001b[0;34m,\u001b[0m\u001b[0;34m\u001b[0m\n",
      "\u001b[0;34m\u001b[0m    \u001b[0mcfl\u001b[0m\u001b[0;34m=\u001b[0m\u001b[0;36m0.8\u001b[0m\u001b[0;34m,\u001b[0m\u001b[0;34m\u001b[0m\n",
      "\u001b[0;34m\u001b[0m\u001b[0;34m)\u001b[0m\u001b[0;34m\u001b[0m\u001b[0;34m\u001b[0m\u001b[0m\n",
      "\u001b[0;31mDocstring:\u001b[0m     \n",
      "Container class for hydro algorithms\n",
      "\n",
      "Parameters\n",
      "-----------------------------------------------------------------------------------------------\n",
      "reconstruction: string\n",
      "        Reconstruction algorithm; see listing for valid choices\n",
      "limiter: string\n",
      "        Slope limiter algorithm; see listing for valid choices\n",
      "riemann: string\n",
      "        Riemann solver; see listing for valid choices\n",
      "time_integration: string\n",
      "        Time integration scheme; see listing for valid choices\n",
      "cfl: float\n",
      "        CFL number (must be between 0 and 1); determines the timestep as CFL number times cell size\n",
      "        divided by the maximum signal speed in the domain\n",
      "\u001b[0;31mFile:\u001b[0m           ~/code/PA4611-Workshops/ulula/simulation.py\n",
      "\u001b[0;31mType:\u001b[0m           type\n",
      "\u001b[0;31mSubclasses:\u001b[0m     "
     ]
    }
   ],
   "source": [
    "?ulula_sim.HydroScheme"
   ]
  },
  {
   "cell_type": "markdown",
   "metadata": {},
   "source": [
    "The options are:  \n",
    "reconstruction can be 'const' or 'linear', i.e., either constant within each bin or with a linear reconstruction within each bin.  \n",
    "limiter can be 'none', 'minmod', 'vanleer' or 'mc'. These are only used if there is a linear reconstruction.  \n",
    "riemann can only be 'hll' so no need to change that.  \n",
    "time_integration can be 'euler', 'hancock' or 'hancock_cons'\n",
    "cfl should be a value between $0$ and $1$ because otherwise the\n",
    "\n",
    " (Note that in each case the parameters need to be given as strings, i.e. in quote marks)"
   ]
  },
  {
   "cell_type": "markdown",
   "metadata": {},
   "source": [
    "### ulula_run.run\n",
    "\n",
    "This is the command that runs the simulation itself. It takes the setup and HydroScheme objects as arguments, and also a number of other arguments...\n"
   ]
  },
  {
   "cell_type": "code",
   "execution_count": 6,
   "metadata": {},
   "outputs": [
    {
     "name": "stdout",
     "output_type": "stream",
     "text": [
      "\u001b[0;31mSignature:\u001b[0m\n",
      "\u001b[0mulula_run\u001b[0m\u001b[0;34m.\u001b[0m\u001b[0mrun\u001b[0m\u001b[0;34m(\u001b[0m\u001b[0;34m\u001b[0m\n",
      "\u001b[0;34m\u001b[0m    \u001b[0msetup\u001b[0m\u001b[0;34m,\u001b[0m\u001b[0;34m\u001b[0m\n",
      "\u001b[0;34m\u001b[0m    \u001b[0mhydro_scheme\u001b[0m\u001b[0;34m=\u001b[0m\u001b[0;32mNone\u001b[0m\u001b[0;34m,\u001b[0m\u001b[0;34m\u001b[0m\n",
      "\u001b[0;34m\u001b[0m    \u001b[0mnx\u001b[0m\u001b[0;34m=\u001b[0m\u001b[0;36m200\u001b[0m\u001b[0;34m,\u001b[0m\u001b[0;34m\u001b[0m\n",
      "\u001b[0;34m\u001b[0m    \u001b[0mtmax\u001b[0m\u001b[0;34m=\u001b[0m\u001b[0;36m1.0\u001b[0m\u001b[0;34m,\u001b[0m\u001b[0;34m\u001b[0m\n",
      "\u001b[0;34m\u001b[0m    \u001b[0mmax_steps\u001b[0m\u001b[0;34m=\u001b[0m\u001b[0;32mNone\u001b[0m\u001b[0;34m,\u001b[0m\u001b[0;34m\u001b[0m\n",
      "\u001b[0;34m\u001b[0m    \u001b[0mprint_step\u001b[0m\u001b[0;34m=\u001b[0m\u001b[0;36m100\u001b[0m\u001b[0;34m,\u001b[0m\u001b[0;34m\u001b[0m\n",
      "\u001b[0;34m\u001b[0m    \u001b[0mrestart_file\u001b[0m\u001b[0;34m=\u001b[0m\u001b[0;32mNone\u001b[0m\u001b[0;34m,\u001b[0m\u001b[0;34m\u001b[0m\n",
      "\u001b[0;34m\u001b[0m    \u001b[0moutput_step\u001b[0m\u001b[0;34m=\u001b[0m\u001b[0;32mNone\u001b[0m\u001b[0;34m,\u001b[0m\u001b[0;34m\u001b[0m\n",
      "\u001b[0;34m\u001b[0m    \u001b[0moutput_time\u001b[0m\u001b[0;34m=\u001b[0m\u001b[0;32mNone\u001b[0m\u001b[0;34m,\u001b[0m\u001b[0;34m\u001b[0m\n",
      "\u001b[0;34m\u001b[0m    \u001b[0moutput_suffix\u001b[0m\u001b[0;34m=\u001b[0m\u001b[0;34m''\u001b[0m\u001b[0;34m,\u001b[0m\u001b[0;34m\u001b[0m\n",
      "\u001b[0;34m\u001b[0m    \u001b[0mplot_step\u001b[0m\u001b[0;34m=\u001b[0m\u001b[0;32mNone\u001b[0m\u001b[0;34m,\u001b[0m\u001b[0;34m\u001b[0m\n",
      "\u001b[0;34m\u001b[0m    \u001b[0mplot_time\u001b[0m\u001b[0;34m=\u001b[0m\u001b[0;32mNone\u001b[0m\u001b[0;34m,\u001b[0m\u001b[0;34m\u001b[0m\n",
      "\u001b[0;34m\u001b[0m    \u001b[0mplot_ics\u001b[0m\u001b[0;34m=\u001b[0m\u001b[0;32mTrue\u001b[0m\u001b[0;34m,\u001b[0m\u001b[0;34m\u001b[0m\n",
      "\u001b[0;34m\u001b[0m    \u001b[0mplot1d\u001b[0m\u001b[0;34m=\u001b[0m\u001b[0;32mFalse\u001b[0m\u001b[0;34m,\u001b[0m\u001b[0;34m\u001b[0m\n",
      "\u001b[0;34m\u001b[0m    \u001b[0msave_plots\u001b[0m\u001b[0;34m=\u001b[0m\u001b[0;32mTrue\u001b[0m\u001b[0;34m,\u001b[0m\u001b[0;34m\u001b[0m\n",
      "\u001b[0;34m\u001b[0m    \u001b[0mplot_dir\u001b[0m\u001b[0;34m=\u001b[0m\u001b[0;34m'.'\u001b[0m\u001b[0;34m,\u001b[0m\u001b[0;34m\u001b[0m\n",
      "\u001b[0;34m\u001b[0m    \u001b[0mplot_suffix\u001b[0m\u001b[0;34m=\u001b[0m\u001b[0;34m''\u001b[0m\u001b[0;34m,\u001b[0m\u001b[0;34m\u001b[0m\n",
      "\u001b[0;34m\u001b[0m    \u001b[0mplot_file_ext\u001b[0m\u001b[0;34m=\u001b[0m\u001b[0;34m'png'\u001b[0m\u001b[0;34m,\u001b[0m\u001b[0;34m\u001b[0m\n",
      "\u001b[0;34m\u001b[0m    \u001b[0mplot_dpi\u001b[0m\u001b[0;34m=\u001b[0m\u001b[0;36m300\u001b[0m\u001b[0;34m,\u001b[0m\u001b[0;34m\u001b[0m\n",
      "\u001b[0;34m\u001b[0m    \u001b[0mmovie\u001b[0m\u001b[0;34m=\u001b[0m\u001b[0;32mFalse\u001b[0m\u001b[0;34m,\u001b[0m\u001b[0;34m\u001b[0m\n",
      "\u001b[0;34m\u001b[0m    \u001b[0mmovie_length\u001b[0m\u001b[0;34m=\u001b[0m\u001b[0;36m4.0\u001b[0m\u001b[0;34m,\u001b[0m\u001b[0;34m\u001b[0m\n",
      "\u001b[0;34m\u001b[0m    \u001b[0mmovie_fps\u001b[0m\u001b[0;34m=\u001b[0m\u001b[0;36m25\u001b[0m\u001b[0;34m,\u001b[0m\u001b[0;34m\u001b[0m\n",
      "\u001b[0;34m\u001b[0m    \u001b[0mmovie_dpi\u001b[0m\u001b[0;34m=\u001b[0m\u001b[0;36m200\u001b[0m\u001b[0;34m,\u001b[0m\u001b[0;34m\u001b[0m\n",
      "\u001b[0;34m\u001b[0m    \u001b[0;34m**\u001b[0m\u001b[0mkwargs\u001b[0m\u001b[0;34m,\u001b[0m\u001b[0;34m\u001b[0m\n",
      "\u001b[0;34m\u001b[0m\u001b[0;34m)\u001b[0m\u001b[0;34m\u001b[0m\u001b[0;34m\u001b[0m\u001b[0m\n",
      "\u001b[0;31mDocstring:\u001b[0m\n",
      "Runtime environment for Ulula.\n",
      "\n",
      "This function takes a given problem setup and other user-defined parameters and executes the\n",
      "hydro solver. Depending on user choices, it can also produces output files, plots, and movies.\n",
      "Customizations that are implemented in the setup class (e.g., which variables to plot with\n",
      "which colormaps) are automatically routed to the respective plotting routines.\n",
      "\n",
      "Parameters\n",
      "-----------------------------------------------------------------------------------------------\n",
      "setup: Setup\n",
      "        Setup object. See :doc:`setups` for how to create this object.\n",
      "hydro_scheme: HydroScheme\n",
      "        HydroScheme object that sets the algorithm and CFL number for the simulation. If ``None``,\n",
      "        the standard scheme is used. See :doc:`simulation` for details.\n",
      "nx: int\n",
      "        Number of cells in the x-direction. The ratio of x and y is determined by the problem\n",
      "        setup.\n",
      "tmax: float\n",
      "        Time when the simulation should be stopped (in code units).\n",
      "max_steps: int\n",
      "        Maximum number of steps to take. If ``None``, no limit is imposed and the code is run to\n",
      "        a time ``tmax``.\n",
      "print_step: int\n",
      "        Print a line to the console every ``print_step`` timesteps.\n",
      "restart_file: str\n",
      "        If not ``None``, the simulation is loaded from this filename and restarted at the step\n",
      "        where it was saved. The setup is ignored.\n",
      "output_step: int\n",
      "        Output a snapshot/restart file every ``output_step`` timesteps. Note that this spacing\n",
      "        probably does not correspond to fixed times. If the latter is desired, use\n",
      "        ``output_time``. Both ``output_step`` and ``output_time`` can be used at the same time\n",
      "        to produce two sets of files.\n",
      "output_time: float\n",
      "        Produce output files in time intervals of size ``output_time`` (given in code units). This\n",
      "        parameter should not change the progression of the simulation because the timesteps taken\n",
      "        to arrive at the desired times are not used for the actual simulation.\n",
      "output_suffix: string\n",
      "        String to add to all output filenames.\n",
      "plot_step: int\n",
      "        Produce a plot every ``plot_step`` timesteps. Note that this spacing probably does not\n",
      "        correspond to fixed times. If the latter is desired, use ``plot_time``. Both ``plot_step``\n",
      "        and ``plot_time`` can be used at the same time to produce two sets of plots.\n",
      "plot_time: float\n",
      "        Produce plots in time intervals of size ``plot_time`` (given in code units). This\n",
      "        parameter should not change the progression of the simulation because the timesteps taken\n",
      "        to arrive at the desired times are not used for the actual simulation.\n",
      "plot_ics: bool\n",
      "        Produce a plot of the initial conditions, step 0 (only active if ``plot_step == True``)\n",
      "plot1d: bool\n",
      "        If ``True``, the 1D plotting routine is called instead of the usual 2D routine. This is\n",
      "        useful only for test setups that are intrinsically 1D such as a shocktube.\n",
      "save_plots: bool\n",
      "        If ``True``, plots are saved to a file (see also ``plot_suffix``, ``plot_file_ext``,\n",
      "        and ``plot_dpi``). If ``False``, plots are shown in an interactive matplotlib window. Note\n",
      "        that this can happen many times during a simulation depending on ``plot_step`` and/or\n",
      "        ``plot_time``.\n",
      "plot_dir: string\n",
      "        Directory where plots are saved. If default, the current directory is used.\n",
      "plot_suffix: string\n",
      "        String to add to all plot filenames (only active if ``save_plots == True``)\n",
      "plot_file_ext: string\n",
      "        File extension for plots; can be ``png``, ``pdf``, or any other extension supported by\n",
      "        the matplotlib library (only active if ``save_plots == True``).\n",
      "plot_dpi\n",
      "        Dots per inch for png figures (only active if ``save_plots == True`` and\n",
      "        ``plot_file_ext == png`` or other bitmap-like image formats).\n",
      "movie: bool\n",
      "        If ``True``, a movie is created by outputting a frame at equally spaced times and running\n",
      "        the ffmpeg tool to combine them (this tool must be installed on the system). See also\n",
      "        ``movie_length``, ``movie_fps``, and ``movie_dpi``.\n",
      "movie_length: float\n",
      "        Length of the movie in seconds (not code units!)\n",
      "movie_fps: int\n",
      "        Framerate of the movie (25 is typical)\n",
      "movie_dpi: int\n",
      "        Resolution of the png files used to create the movie (see ``plot_dpi``)\n",
      "kwargs: kwargs\n",
      "        Additional arguments that are passed to the Ulula plotting function (either 1D or 2D,\n",
      "        depending on the ``plot1d`` parameter).\n",
      "\n",
      "Returns\n",
      "-----------------------------------------------------------------------------------------------\n",
      "sim: Simulation\n",
      "        Object of type :data:`~ulula.simulation.Simulation`\n",
      "\u001b[0;31mFile:\u001b[0m      ~/code/PA4611-Workshops/ulula/run.py\n",
      "\u001b[0;31mType:\u001b[0m      function"
     ]
    }
   ],
   "source": [
    "?ulula_run.run"
   ]
  },
  {
   "cell_type": "markdown",
   "metadata": {},
   "source": [
    "# Your work\n",
    "\n",
    "What I want you to do is, based on the lectures explaining grid hydrodynamics, adjust this code to produce a simulation that shows the Kelvin Helmholtz instability in a way that appears to be physically realistic. \n",
    "\n",
    "Then, below, show how adjusting parameters of the simulations affects the results. This includes the setup, the hydro scheme or the number of points in the grid. This will almost certainly be in graphical form unless you want to start changing the ulula code itself. It would be impressive if you do that to quantify your results, but is in no way a necessary thing to do.\n",
    "\n",
    "I would expect you to clearly describe the effect of changing 3 or 4 of the possible parameters of the simulations. This requires you to show plots and write clearly about what changes you made, how they affect the results and why you think that is the case.\n",
    "\n",
    "To include figures when you hand in this notebook you will have to ensure that when I run the notebook, the files are produced in a folder within the same one as the notebook. An example of this can be could be seen in the example above. You then need to use those figures in the notebook. You can do that as shown in the cell below."
   ]
  },
  {
   "cell_type": "markdown",
   "metadata": {},
   "source": [
    "You should display these plots in context for your write-up. The best method for doing this is to use a simple bit of HTML like that used below. This will allow you to display the plots in a way that is easy to see and understand. E.g.:\n",
    "\n",
    "The initial conditions of the simulation look like this:  \n",
    "\n",
    "<img src=\"plots/example/ulula_kh_time_0.0000CE.png\" alt=\"Put alt text here if you want\" width=\"400\"/>\n",
    "\n",
    "Note that the figure did not exist until the code above was run.\n"
   ]
  },
  {
   "cell_type": "markdown",
   "metadata": {},
   "source": [
    "An alternative method (which I don't recommend but acknowledge I should mention) using pure Markdown syntax is the following, but the problem with this is that the images are not resized, and so can be very large. E.g.:\n",
    "\n",
    "The initial conditions of the simulation look like this:  \n",
    "\n",
    "![alt text](plots/example/ulula_kh_time_0.0000CE.png)"
   ]
  },
  {
   "cell_type": "markdown",
   "metadata": {},
   "source": [
    "This is deliberately open-ended. I will mark it based on how well you investigate and explain the effects of changing the parameters of the simulation. One important question: Why does it need to seed a particular wavelength. Which wavelengths are affected by the Kelvin-Helmholtz instability?"
   ]
  }
 ],
 "metadata": {
  "kernelspec": {
   "display_name": "ULUVA_env",
   "language": "python",
   "name": "python3"
  },
  "language_info": {
   "codemirror_mode": {
    "name": "ipython",
    "version": 3
   },
   "file_extension": ".py",
   "mimetype": "text/x-python",
   "name": "python",
   "nbconvert_exporter": "python",
   "pygments_lexer": "ipython3",
   "version": "3.12.4"
  }
 },
 "nbformat": 4,
 "nbformat_minor": 2
}
