{
 "cells": [
  {
   "cell_type": "markdown",
   "metadata": {},
   "source": [
    "# Coursework for PA4611\n",
    "\n",
    "This notebook contains coursework for PA4611 \"Computational Fluid and Phase-Space Flows\" at University of Leicester.\n",
    "\n",
    "This is the second and final piece of computational coursework. It is focussed on computational hydrodynamics, and is divided into two halves.\n",
    "\n",
    "a. The first half is related to the Lagrangian method of Smoothed Particle Hydrodynamics (SPH), and you will write your own SPH code to simulate the flow of a fluid in a 1D problem.\n",
    "\n",
    "b. The second half is related to the Eulerian method using a fixed grid to simulate the fluid flow. In this case you will be using existing code to explore methods of simulation and the properties of a fluid instability.\n",
    "\n",
    "50% of the marks are for the SPH work, and 50% for the Eulerian work. More detailed instructions are given in the relevant sections below."
   ]
  },
  {
   "cell_type": "markdown",
   "metadata": {},
   "source": [
    "## Rules and guidelines for the coursework\n",
    "\n",
    "The work must be your own, and you may not source answers from other people or online resources. You may use the course notes, lecture slides, and software documentation or other general information available online (i.e., not specific to these questions).\n",
    "\n",
    "You may not use generative AI to solve the problems. You can use it to do simple tasks with Python, such as array operations. If so, you must clearly document in this notebook which steps were done with the help of AI and which were done by you.\n",
    "\n",
    "The below notebook cells include some basic code which you should use as a starting point, but you will fill in the rest yourself, adding extra cells in the notebook where needed.\n",
    "\n",
    "\n",
    "### Submission\n",
    "\n",
    "This Jupyter notebook, completed, is all that you need to submit. \n",
    "\n",
    "Please \"clear all outputs\" before handing in. If not then I will do that, and will run your notebook to reproduce any plots you have made. The notebook you hand in should do all its calculations and plotting when run from start to finish. It should not rely on any external files (except basic python packages such as numpy, and ulula for the grid hydrodynamics) or data. Check that this is the case before submitting (\"Restart and Run All\" in Jupyter should help you check this).\n",
    "\n",
    "Please delete any code that is not used in the final notebook. There are probably a number of things you will try as you try and get everything working, but if it's not needed in the final version please delete it."
   ]
  },
  {
   "cell_type": "markdown",
   "metadata": {},
   "source": [
    "## Some helpful python and notebook tips\n"
   ]
  },
  {
   "cell_type": "code",
   "execution_count": null,
   "metadata": {},
   "outputs": [],
   "source": [
    "import numpy as np\n",
    "import matplotlib.pyplot as plt\n",
    "import scipy.integrate as integrate"
   ]
  },
  {
   "cell_type": "markdown",
   "metadata": {},
   "source": [
    "### Numpy array access\n",
    "\n",
    "You have been using numpy arrays of values to do your work within this course. There are some very useful ways of accessing the values contained in them that you should be aware of. I'll show a few below."
   ]
  },
  {
   "cell_type": "markdown",
   "metadata": {},
   "source": [
    "### Array slicing"
   ]
  },
  {
   "cell_type": "code",
   "execution_count": null,
   "metadata": {},
   "outputs": [],
   "source": [
    "a = np.array([7,8,4,2,5,9])\n",
    "\n",
    "# You can pick out a single value\n",
    "print(\"The first item is\", a[0], \", note that this has the index 0\")\n",
    "print(\"The last item is\", a[5], \"or, equivalently,\", a[-1], \", note that I can access this with index -1\")"
   ]
  },
  {
   "cell_type": "code",
   "execution_count": null,
   "metadata": {},
   "outputs": [],
   "source": [
    "# You can pick out a range of values\n",
    "print(\"The first three items are\", a[0:3])\n",
    "print(\"The last three items are\", a[-3:])"
   ]
  },
  {
   "cell_type": "markdown",
   "metadata": {},
   "source": [
    "One really useful way of using this is to find the differences between successive values in an array. This is useful for finding the gradient of a function, for example. Here's some example code:"
   ]
  },
  {
   "cell_type": "code",
   "execution_count": null,
   "metadata": {},
   "outputs": [],
   "source": [
    "x = np.array([1,2,3,4,5,6,7])\n",
    "y = x**2\n",
    "print(\"The difference between successive values of y is\", y[1:] - y[:-1])\n",
    "print(\"The difference between successive values of x is\", x[1:] - x[:-1])\n",
    "print(\"The average of successive values of x is\", 0.5*(x[1:] + x[:-1]))\n",
    "print(\"Note that these are all one shorter than the original arrays\")\n"
   ]
  },
  {
   "cell_type": "markdown",
   "metadata": {},
   "source": [
    "### Setting conditions: Boolean indexing\n",
    "\n",
    "(not as scary as it sounds)"
   ]
  },
  {
   "cell_type": "code",
   "execution_count": null,
   "metadata": {},
   "outputs": [],
   "source": [
    "# I can also set a condition, or multiple conditions, and only pick out values where that is true\n",
    "print(\"The values greater than 5 are\", a[a>5])\n",
    "print(\"The values greater than three but less than 8 are\", a[(a>3) & (a<8)])"
   ]
  },
  {
   "cell_type": "code",
   "execution_count": null,
   "metadata": {},
   "outputs": [],
   "source": [
    "# I can use that syntax to set values to other arrays, so, for example\n",
    "\n",
    "b = np.zeros(len(a)) # set up an array of zeros the same length as a\n",
    "b[a>5] = 1 # set the values of b to 1 where the values of a are greater than 5\n",
    "print(\"The values of b are\", b)"
   ]
  },
  {
   "cell_type": "code",
   "execution_count": null,
   "metadata": {},
   "outputs": [],
   "source": [
    "# Or even\n",
    "b = np.zeros(len(a))\n",
    "b[a>5] = a[a>5] # set the values of b to the values of a where the values of a are greater than 5\n",
    "print(\"The values of b are\", b)"
   ]
  },
  {
   "cell_type": "code",
   "execution_count": null,
   "metadata": {},
   "outputs": [],
   "source": [
    "# Note that the version in this cell will NOT work, uncomment it to see the error\n",
    "# b[a>5] = a"
   ]
  },
  {
   "cell_type": "markdown",
   "metadata": {},
   "source": [
    "# Part a: SPH project - The 1D shock tube problem"
   ]
  },
  {
   "cell_type": "markdown",
   "metadata": {},
   "source": [
    "## Mark scheme\n",
    "\n",
    "The first part of the coursework is to implement an SPH simulation of the 1D shock tube. The work can be broken down into four elements, listed below with the percentage of the mark assigned to them\n",
    "\n",
    "\n",
    "10% of mark: The SPH kernel. Implement and demonstrate using a plot and brief explanation.  \n",
    "50% of mark: Create a 1D simulation of the shock tube. You have been initial conditions other than smoothing length, which you can chose yourself, but my first suggestion would be 0.005  \n",
    "20% of mark: Alter properties of your simulation and explain what you have done and its results.  \n",
    "20% of mark. Add artificial viscosity to your simulation.  \n",
    "\n",
    "In each case 50% of the marks are for correct numerical results (partially correct results get partial marks). 40% are for your explanation of these results (including well chosen, well plotted graphs). 10% are for good coding (clear, commented, not too repetitive).\n",
    "\n",
    "To emphasize part of this, **40% are for your explanations**. So all parts of the notebook need an explanation of what you have done, and the results you get. These should be given in markdown boxes around the code."
   ]
  },
  {
   "cell_type": "markdown",
   "metadata": {},
   "source": [
    "## The SPH kernel"
   ]
  },
  {
   "cell_type": "markdown",
   "metadata": {},
   "source": [
    "The SPH kernel that we will be using is defined in the lecture slides and in the slides for this coursework. It is a cubic spline kernel. Please note that we are doing a 1D problem, so the kernel is 1D.\n",
    "\n",
    "\n",
    "You need to implement this kernel as a function in Python. You should calculate the kernel and its gradient with respect to the distance between two particles.\n",
    "\n",
    "You should then check that you have calculated both of these correctly. You should compare to the plot in the slides, which includes checking that the gradient is correct by comparing to a simple numerical derivative.\n",
    "\n"
   ]
  },
  {
   "cell_type": "code",
   "execution_count": null,
   "metadata": {},
   "outputs": [],
   "source": [
    "def calculate_kernel(r, smoothing_length):\n",
    "    '''Calculate the kernel function, W, for an input array of distances r and a smoothing length h'''\n",
    "    \n",
    "    return\n",
    "\n",
    "def calculate_kernel_derivative(r, smoothing_length):\n",
    "    '''Calculate the derivative of the kernel function, W, wrt r for an input array of distances r and a smoothing length h'''\n",
    "    \n",
    "    return\n",
    "\n",
    "r = np.linspace(0,3)\n",
    "\n",
    "# Calculate W and dW/dr for h=1 and h=0.5\n",
    "\n",
    "# Calculate the numerical derivative of W in each case, i.e. Delta W/Delta r for some small Delta r\n",
    "\n",
    "# Plot all of these and compare to slides"
   ]
  },
  {
   "cell_type": "markdown",
   "metadata": {},
   "source": []
  },
  {
   "cell_type": "markdown",
   "metadata": {},
   "source": [
    "## Initial conditions\n",
    "\n",
    "I've set these up for you below. They are the same as in the slides. You should use these initial conditions for the rest of the coursework."
   ]
  },
  {
   "cell_type": "code",
   "execution_count": null,
   "metadata": {},
   "outputs": [],
   "source": [
    "particle_mass = 0.001875\n",
    "tube_size = 0.6\n",
    "total_n = 400\n",
    "\n",
    "def set_initial_conditions():\n",
    "\n",
    "    first_partition_n = int(0.8 * total_n)\n",
    "    pos = np.zeros(total_n)\n",
    "\n",
    "    pos[:first_partition_n] = np.linspace(-tube_size, 0, first_partition_n, endpoint=False)\n",
    "    pos[first_partition_n:] = np.linspace(0, tube_size, total_n - first_partition_n, endpoint=False)\n",
    "\n",
    "    # initial velocity = 0\n",
    "    vel = np.zeros(total_n)\n",
    "\n",
    "    initial_e_val = (2.5, 1.795)\n",
    "    #initial_p_val = (1, 0.1795)\n",
    "    initial_rho_val = (1, 0.25)\n",
    "\n",
    "    energy = np.ones(total_n)\n",
    "    energy[:first_partition_n] = initial_e_val[0]\n",
    "    energy[first_partition_n:] = initial_e_val[1]\n",
    "\n",
    "    density = np.ones(total_n)\n",
    "    density[:first_partition_n] = initial_rho_val[0]\n",
    "    density[first_partition_n:] = initial_rho_val[1]\n",
    "    return pos, density, vel, energy\n",
    "\n",
    "\n",
    "# Make sure you reset before running any code or tests!\n",
    "pos, density, vel, energy  = set_initial_conditions()"
   ]
  },
  {
   "cell_type": "markdown",
   "metadata": {},
   "source": [
    "## Implementing a 1D SPH code\n",
    "\n",
    "The basic equations that you need to solve are given in the slides. You should implement these in Python. For your first attempt do not include any artificial viscosity. We will return to that later.\n",
    "\n",
    "You need to calculate the effect on each particle of all other particles. I see two methods of doing this, and I think either is valid. Chose which one you are more comfortable with.\n",
    "\n",
    "First, you could loop over all particles, and for each particle calculate the effect of all other particles. This is the most straightforward way of doing it, but it is also the slowest. A pseudocode version of this is:\n",
    "\n",
    "```\n",
    "def calculate(INPUTS):\n",
    "    pressure = energy * (gamma - 1) * density\n",
    "    density_derivative = np.zeros(Number_of_particles)\n",
    "    # Similar for velocity & energy\n",
    "\n",
    "    for i in range(Number_of_particles): \n",
    "        # Calculate vector of differences between particle i and all other particles\n",
    "        position_difference = position[i] - position\n",
    "        # Calculate the derivative of the kernel function for each particle\n",
    "        # Be sure to ensure that the sign of the derivative is correct\n",
    "\n",
    "        # Similarly for the velocity\n",
    "        velocity_difference = velocity[i] - velocity\n",
    "\n",
    "        density_derivative[i] = sum(velocity_difference * mass * kernel_derivative_term)\n",
    "        etc\n",
    "        return density_derivative, etc\n",
    "```\n",
    "\n",
    "\n",
    "Alternatively you could use numpy broadcasting to do all the particles at once rather than using a loop. This is a bit harder to follow, but may be somewhat faster. A pseudocode version of this is:\n",
    "\n",
    "```\n",
    "def calculate(INPUTS):\n",
    "    pressure = energy * (gamma - 1) * density\n",
    "    position_difference = position[:, np.newaxis] - position[np.newaxis, :]\n",
    "\n",
    "    etc\n",
    "    density_derivative = sum(velocity_difference * mass * kernel_derivative_term, axis=1)\n",
    "\n",
    "    return density_derivative, etc\n",
    "```"
   ]
  },
  {
   "cell_type": "markdown",
   "metadata": {},
   "source": [
    "## SPH without artificial viscosity"
   ]
  },
  {
   "cell_type": "code",
   "execution_count": null,
   "metadata": {},
   "outputs": [],
   "source": [
    "def calculate_derivatives(pos, density, vel, energy, smoothing_length):\n",
    "    '''Calculate the derivatives of the state variables density, velocity and energy \n",
    "     \n",
    "    Inputs are a set of positions, densities, velocities and energies, and the\n",
    "    smoothing length, but note that since you are using a leapfrog integrator, \n",
    "    you don't need to calculate the derivative of position'''\n",
    "    # Fill in this function yourself\n",
    "    return\n",
    "\n",
    "\n",
    "def leapfrog(pos, density, vel, energy, dt, smoothing_length):\n",
    "    '''Take a single leapfrog step'''\n",
    "    # Fill in this function yourself\n",
    "    # Things to do:\n",
    "    #   Step positon forwards by 0.5*vel*dt\n",
    "    #   Calculate the derivatives using these new positions\n",
    "    #   Step velocity, density, energy, forwards by dt with these new derivatives\n",
    "    #   Step position forwards by 0.5*vel*dt\n",
    "    return # the new values of pos, density, vel, energy\n",
    "\n"
   ]
  },
  {
   "cell_type": "markdown",
   "metadata": {},
   "source": [
    "### A bit of help with checking you've implemented the code \n",
    "\n",
    "To help a little, I have calculated the values of $\\frac{du}{dt}$ at t=0 for a few particles in the initial set-up given in the coursework and the values of the derivative are given below. You can use these to check your code is working correctly.\n",
    "\n",
    "Specifically, the values du given below are those found as du[310:330] where du are the derivatives $\\frac{du}{dt}$ at t=0. \n",
    "\n",
    "The smoothing length was taken to be 0.005 (and that is important). Do check your results by comparing your derivative at t=0 with indices 310 to 330 with the values given below.\n",
    "\n",
    "```\n",
    "print(your_derivative[310:330]-test_derivative)\n",
    "\n",
    "```\n",
    "\n",
    "The values should all be close to zero.   "
   ]
  },
  {
   "cell_type": "code",
   "execution_count": null,
   "metadata": {},
   "outputs": [],
   "source": [
    "test_derivative  = np.array([-1.42108547e-14,  4.26325641e-13,  1.67688086e-12,  2.89901436e-12,\n",
    "                            1.23634436e-12, -1.09687500e+00, -1.63781250e+01, -3.38250000e+01,\n",
    "                            -1.47937500e+01,  9.78281250e+01,  4.43006250e+02,  2.26875000e+00,\n",
    "                            -0.00000000e+00, -0.00000000e+00, -0.00000000e+00, -0.00000000e+00,\n",
    "                            -0.00000000e+00, -0.00000000e+00,  2.98427949e-13, -6.25277607e-13])"
   ]
  },
  {
   "cell_type": "markdown",
   "metadata": {},
   "source": [
    "## Run a simulation\n",
    "\n",
    "Set up a simulation with the initial conditions given above. Run the simulation with $dt=0.002$ for 100 steps. Plot the density, velocity and pressure of the particles as a function of position for a few different times during the simulation.\n",
    "\n",
    "Be aware that you can expect significant oscillation around the expected solution. This is due to the numerical solution we are using. The oscillations should reduce over time, but are also reduced with \n"
   ]
  },
  {
   "cell_type": "code",
   "execution_count": null,
   "metadata": {},
   "outputs": [],
   "source": [
    "# Run a simulation\n",
    "pos, density, vel, energy  = set_initial_conditions()\n",
    "\n",
    "# Your bit:\n"
   ]
  },
  {
   "cell_type": "code",
   "execution_count": null,
   "metadata": {},
   "outputs": [],
   "source": []
  },
  {
   "cell_type": "markdown",
   "metadata": {},
   "source": [
    "### You have control of numerical parameters of your simulation (most simply, timestep or smoothing length)\n",
    "\n",
    "Adjust one or more of these and look at the results. Describe what you have done and your results, putting them in context. Use as many markdown or Python cells as you need to do this. "
   ]
  },
  {
   "cell_type": "markdown",
   "metadata": {},
   "source": []
  },
  {
   "cell_type": "code",
   "execution_count": null,
   "metadata": {},
   "outputs": [],
   "source": []
  },
  {
   "cell_type": "markdown",
   "metadata": {},
   "source": []
  },
  {
   "cell_type": "code",
   "execution_count": null,
   "metadata": {},
   "outputs": [],
   "source": []
  },
  {
   "cell_type": "markdown",
   "metadata": {},
   "source": [
    "## SPH with artificial viscosity"
   ]
  },
  {
   "cell_type": "markdown",
   "metadata": {},
   "source": [
    "Final step for the first half of the coursework. Implement artificial viscosity in your code.\n",
    "\n",
    "Show plots illustrating the effect of this on the simulation. "
   ]
  },
  {
   "cell_type": "code",
   "execution_count": null,
   "metadata": {},
   "outputs": [],
   "source": []
  },
  {
   "cell_type": "markdown",
   "metadata": {},
   "source": [
    "# Part b: Grid hydrodynamics to simulate the Kelvin-Helmholtz instability\n",
    "\n",
    "In this half of the coursework you will use an existing hydrodynamic solver called Ulula to run and analyse hydrodynamical simulations that are grid-based. You will perform some 2D simulations which show the Kelvin-Helmholtz instabilty.\n",
    "\n",
    "Ulula was written by Benedikt Diemer (University of Maryland). The version you will be using is one that I have adapted slightly to do the things I want it to do, but the overwhelming majority of the code is Diemer's. \n",
    "\n",
    "You should download the code from the course Github page: https://github.com/PaulMcMillan-Astro/PA4611-Workshops, and there is documentation for most of it here: https://bdiemer.bitbucket.io/ulula/index.html\n",
    "\n",
    "The code will run on mybinder here https://mybinder.org/v2/gh/PaulMcMillan-Astro/PA4611-Workshops/HEAD \n",
    "\n",
    "\n",
    "### Installation\n",
    "\n",
    "The code is in the course Github repository and can be copied from there. The main ways to do that would be:\n",
    "\n",
    "1. Using the command line: \n",
    "    - If you have not used git to get a copy of the course repository then `git clone https://github.com/PaulMcMillan-Astro/PA4611-Workshops.git` or, if you really know what you're doing `git clone git@github.com:PaulMcMillan-Astro/PA4611-Workshops.git`\n",
    "    - If you have already cloned the repository then you can just `git pull` to get the latest version.\n",
    "2. Using the web interface: go to the repository and download the zip file. (You will need to click on the button saying 'Code' to download the zip file.)\n",
    "    - You will need to unzip the file and move the directory to where you want it to be (ideally the directory this notebook is in).\n",
    "3. From Blackboard. I have put the zip file `ulula.zip`, which I will aim to keep fully up-to-date. You should download this and unzip it in the directory where you want to work.\n",
    "\n",
    "You may need to use the lines of code using `sys.path' to make sure the notebook can use the Ulula code.\n",
    "\n",
    "\n",
    "#### Other packages\n",
    "\n",
    "To make ulula work correctly you will need the packages h5py and six. You can install these using conda install or pip install. h5py is used for reading and writing files while six is used to ensure compatibility for the Ulula code with different versions of Python.\n",
    "\n",
    "You will also need the usual packages (numpy, scipy & matplotlib) \n"
   ]
  },
  {
   "cell_type": "markdown",
   "metadata": {},
   "source": [
    "## The Kelvin-Helmholtz instability\n",
    "\n",
    "The final project is to investigate the Kelvin-Helmholtz instability. This is a hydrodynamic instability that occurs when there is a velocity shear between two fluids. It is a common feature in astrophysical flows.\n",
    "\n",
    "You will use the Ulula code to investigate how this instability develops in a 2D grid. The code allows you to set-up and run the simulation in a variety of ways, and you should experiment with different parameters to see how the instability develops."
   ]
  },
  {
   "cell_type": "markdown",
   "metadata": {},
   "source": []
  },
  {
   "cell_type": "code",
   "execution_count": null,
   "metadata": {},
   "outputs": [],
   "source": [
    "import sys\n",
    "\n",
    "# Gives the path of the ulula. Here it is assumed to a directory \n",
    "# in the same directory as this notebook. If you change that, change this line.\n",
    "sys.path.insert(0,'./ulula') \n"
   ]
  },
  {
   "cell_type": "code",
   "execution_count": null,
   "metadata": {},
   "outputs": [],
   "source": [
    "# The key bits of ulula for this project\n",
    "import ulula.setups.kelvin_helmholtz as setup_kh\n",
    "import ulula.run as ulula_run\n",
    "import ulula.simulation as ulula_sim"
   ]
  },
  {
   "cell_type": "markdown",
   "metadata": {},
   "source": [
    "## Running a simulation (example settings)\n",
    "\n",
    "Let's start by showing you want can be produced by running a simulation. The simulation below starts with a simple Kelvin-Helmholtz-unstable system, then evolves it until t=3 on a 200x200 grid using no reconstruction, Euler integration, and $\\alpha_{cfl}$ value of 0.5, plotting the density and x-velocity every 0.5 time units. The fluid layers both have adiabatic index $\\gamma=5/3$, so $P\\propto \\rho^{5/3}$.\n",
    "\n",
    "The plots are placed in the directory plots/example (which is created automatically if not already in place). Each plot is given the suffix CE (which I chose because it is a 'const' reconstruction and Euler timestepping). You should choose your own plot directory and suffix for your own plots."
   ]
  },
  {
   "cell_type": "code",
   "execution_count": null,
   "metadata": {},
   "outputs": [],
   "source": [
    "setup_basic = setup_kh.SetupKelvinHelmholtz(sharp_ics=False, n_waves=1, rho1=2.0, velocity_difference=1.0,)\n",
    "hs_basic = ulula_sim.HydroScheme(reconstruction = 'const', time_integration= 'euler', cfl = 0.5)\n",
    "\n",
    "kwargs_basic = dict(q_plot = ['DN', 'VX'])\n",
    "ulula_run.run(setup_basic, hydro_scheme=hs_basic,tmax = 3.0, nx = 200, plot_time = 0.5, plot_dir = 'plots/example', plot_suffix='CE', **kwargs_basic)"
   ]
  },
  {
   "cell_type": "markdown",
   "metadata": {},
   "source": [
    "You can display the plots that are created in your notebook. The best method for doing this is to use a simple bit of HTML like that used below. This will allow you to display the plots in a way that is easy to see and understand. E.g.:\n",
    "\n",
    "The initial conditions of the simulation look like this:  \n",
    "\n",
    "<img src=\"plots/example/ulula_kh_time_0.0000CE.png\" alt=\"Put alt text here if you want\" width=\"500\"/>\n",
    "\n",
    "while at t=2, the system has evolved to look like this:\n",
    "\n",
    "<img src=\"plots/example/ulula_kh_time_2.0000CE.png\" alt=\"Put alt text here if you want\" width=\"500\"/>\n",
    "\n",
    "Note that the figure did not exist until the code above was run."
   ]
  },
  {
   "cell_type": "markdown",
   "metadata": {},
   "source": [
    "The results there are very blurry, and don't look at all like the results that we would hope for. Fortunately we have various parameters of the simulation that we can alter to improve/change the simulation. I will explain them below, but you should also look at the documentation, and into the ulula code itself, to see what else you can do.\n",
    "\n",
    "One useful thing to do is to look at the documentation string for each function used above. I will show a simple way of doing that below. "
   ]
  },
  {
   "cell_type": "markdown",
   "metadata": {},
   "source": [
    "## The functions and their parameters\n",
    "### setup_kh.SetupKelvinHelmholtz\n",
    "\n",
    "This is used to set up the simulation given the choice of parameters. When the simulation actually runs it uses this 'object' (called setup_basic for the example above) to set up the particular simulation."
   ]
  },
  {
   "cell_type": "code",
   "execution_count": null,
   "metadata": {},
   "outputs": [],
   "source": [
    "# Get the help string for the setup code\n",
    "?setup_kh.SetupKelvinHelmholtz\n",
    "# Or you can do it this way:\n",
    "#help(setup_kh.SetupKelvinHelmholtz)"
   ]
  },
  {
   "cell_type": "markdown",
   "metadata": {},
   "source": [
    "You can choose whether you want a sharp divide between the fluids initially, how many waves you want in the seed perturbation, and the density of the denser fluid and the relative velocities of the fluid."
   ]
  },
  {
   "cell_type": "markdown",
   "metadata": {},
   "source": [
    "### ulula_sim.HydroScheme\n",
    "Defines how the simulation will solve the fluid-dynamical equations. For the example above I have called this  hs_basic"
   ]
  },
  {
   "cell_type": "code",
   "execution_count": null,
   "metadata": {},
   "outputs": [],
   "source": [
    "?ulula_sim.HydroScheme"
   ]
  },
  {
   "cell_type": "markdown",
   "metadata": {},
   "source": [
    "The options are:  \n",
    "reconstruction can be 'const' or 'linear', i.e., either constant within each bin or with a linear reconstruction within each bin.  \n",
    "limiter can be 'none', 'minmod', 'vanleer' or 'mc'. These are only used if there is a linear reconstruction.  \n",
    "riemann can only be 'hll' so no need to change that.  \n",
    "time_integration can be 'euler', 'hancock' or 'hancock_cons'  \n",
    "cfl should be a value between $0$ and $1$ because otherwise the system does not obey causality.\n",
    "\n",
    " (Note that in each case the parameters need to be given as strings, i.e. in quote marks)"
   ]
  },
  {
   "cell_type": "markdown",
   "metadata": {},
   "source": [
    "### ulula_run.run\n",
    "\n",
    "This is the command that runs the simulation itself. It takes the setup and HydroScheme objects as arguments, and also a number of other arguments...\n"
   ]
  },
  {
   "cell_type": "code",
   "execution_count": null,
   "metadata": {},
   "outputs": [],
   "source": [
    "?ulula_run.run"
   ]
  },
  {
   "cell_type": "markdown",
   "metadata": {},
   "source": [
    "The main option to change here to explore different behaviour is nx, which is the number of cells (in x & y) in the grid. \n",
    "\n",
    "The other important options are:  \n",
    "tmax. Length of simulation (in code units) KH instability should be noticable around t=2 for the original initial conditions.  \n",
    "save_plot. Set to True, or plots will just be output direct to screen.  \n",
    "plot_time. Interval in simulation time at which plots are output(i.e., if this is 0.5 then they are output at 0.5, 1, 1.5 2, 2.5,...).  \n",
    "plot_dir. Directory where plots are saved.  \n",
    "plot_suffix. Suffix for plot files.  \n",
    "\n",
    "kwargs. This is the set of values that are passed to the plotting code within ulula. That I'll explain below."
   ]
  },
  {
   "cell_type": "markdown",
   "metadata": {},
   "source": [
    "### ulula.plots.plot2d\n",
    "\n",
    "This is called by ulula_run.run. You should never have to call this directly, but you can set its parameters with kwargs for the run function."
   ]
  },
  {
   "cell_type": "code",
   "execution_count": null,
   "metadata": {},
   "outputs": [],
   "source": [
    "import ulula.plots\n",
    "?ulula.plots.plot2d"
   ]
  },
  {
   "cell_type": "markdown",
   "metadata": {},
   "source": [
    "I don't think you'll need to change anything here except probably the quantities plotted (q_plot). The example above plots density ('DN') and x-velocity ('VX'). The full list of options is below. As above you can plot multiple at once with a list."
   ]
  },
  {
   "cell_type": "code",
   "execution_count": null,
   "metadata": {},
   "outputs": [],
   "source": [
    "ulula.plots.fields"
   ]
  },
  {
   "cell_type": "markdown",
   "metadata": {},
   "source": [
    "# Your work\n",
    "\n",
    "What I want you to do is, based on the lectures explaining grid hydrodynamics, adjust this code to produce a simulation that shows the Kelvin Helmholtz instability in a way that appears to be physically realistic. \n",
    "\n",
    "Then, below, show how adjusting parameters of the simulations affects the results. This should include the physical setup and/or the hydrodynamical scheme. The analysis of the simulations will be based on the plots you create rather than any more quantitative analysis, but you should carefully consider which plots to show.\n",
    "\n",
    "I would expect you to clearly describe the effect of changing 3 or 4 of the possible parameters of the simulations. This requires you to show plots and write clearly about what changes you made, how they affect the results and why you think that is the case. This can be based on what you know about either the physics of the problem or the numerical methods used to solve it.\n",
    "\n",
    "To include figures when you hand in this notebook you will have to ensure that when I run the notebook, the files are produced in a folder within the same one as the notebook. An example of this can be could be seen in the example above. You then need to use those figures in the notebook. You can do that using something like the HTML code I have shown above. (though feel free to do something better if you can!)"
   ]
  },
  {
   "cell_type": "code",
   "execution_count": null,
   "metadata": {},
   "outputs": [],
   "source": []
  },
  {
   "cell_type": "markdown",
   "metadata": {},
   "source": [
    "\n"
   ]
  }
 ],
 "metadata": {
  "kernelspec": {
   "display_name": "Agama_env",
   "language": "python",
   "name": "python3"
  },
  "language_info": {
   "codemirror_mode": {
    "name": "ipython",
    "version": 3
   },
   "file_extension": ".py",
   "mimetype": "text/x-python",
   "name": "python",
   "nbconvert_exporter": "python",
   "pygments_lexer": "ipython3",
   "version": "3.12.4"
  }
 },
 "nbformat": 4,
 "nbformat_minor": 2
}
