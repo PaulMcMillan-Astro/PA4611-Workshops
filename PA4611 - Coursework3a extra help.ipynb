{
 "cells": [
  {
   "cell_type": "markdown",
   "metadata": {},
   "source": [
    "# Additional guidance for coursework 3a\n",
    "\n",
    "Coursework 3a requires you to implement an SPH simulation of the 1D shock tube. The work can be broken down into four elements, listed below with the percentage of the mark assigned to them\n",
    "\n",
    "\n",
    "10% of mark. The SPH kernel. Implement and demonstrate using a plot and brief explanation.  \n",
    "50% of mark. Create a 1D simulation of the shock tube. You have been initial conditions other than smoothing length, which you can chose yourself, but my first suggestion would be 0.005  \n",
    "20% of mark. Alter properties of your simulation and explain what you have done and its results.  \n",
    "20% of mark. Add artificial viscosity to your simulation.  \n",
    "\n",
    "In each case 50% of the marks are for correct numerical results (partially correct results get partial marks). 40% are for your explanation of this results (including well chosen, well plotted graphs). 10% are for good coding (clear, commented, not too repetitive).\n",
    "\n",
    "To emphasize part of this, **40% are for your explanations**. So all parts of the notebook need an explanation of what you have done, and the results you get. These should be given in markdown boxes around the code.\n"
   ]
  },
  {
   "cell_type": "markdown",
   "metadata": {
    "vscode": {
     "languageId": "plaintext"
    }
   },
   "source": [
    "\n",
    "\n",
    "## A bit of help\n",
    "\n",
    "To help a little, I have calculated the values of $\\frac{du}{dt}$ at t=0 for a few particles in the initial set-up given in the coursework and the values of the derivative are given below. You can use these to check your code is working correctly.\n",
    "\n",
    "Specifically, the values du given below are those found as du[310:330] where du are the derivatives $\\frac{du}{dt}$ at t=0. The smoothing length was taken to be 0.005 (and that is important). Do check your results by comparing your derivative at t=0 with indices 310 to 330 with the values given below.\n",
    "\n",
    "```\n",
    "print(your_derivative[310:330]-test_derivative)\n",
    "\n",
    "```\n",
    "\n",
    "The values should all be close to zero.   \n",
    "Disclaimer: This is the first time the course has been run. There remains a chance that I have it wrong. In which case: Sorry! Please let me know ASAP if you become confident that this is the case."
   ]
  },
  {
   "cell_type": "code",
   "execution_count": 2,
   "metadata": {},
   "outputs": [],
   "source": [
    "import numpy as np"
   ]
  },
  {
   "cell_type": "code",
   "execution_count": 3,
   "metadata": {},
   "outputs": [],
   "source": [
    "# Copy this across to your code to test the function \n",
    "test_derivative  = np.array([-2.74218750e-01, -1.42089844e+00, -2.26347656e+00, -1.48359375e+00,\n",
    "                            1.66992188e+00,  6.94628906e+00,  1.87939453e+01,  3.55265625e+01,\n",
    "                            5.26218750e+01,  6.48486328e+01,  1.71802734e+02,  8.50863281e+01,\n",
    "                            4.11210938e+00, -0.00000000e+00, -0.00000000e+00,  7.10542736e-15,\n",
    "                            -7.10542736e-15,  2.84217094e-14,  2.84217094e-14, -1.58095759e-13])"
   ]
  },
  {
   "cell_type": "code",
   "execution_count": null,
   "metadata": {},
   "outputs": [],
   "source": []
  }
 ],
 "metadata": {
  "kernelspec": {
   "display_name": "Agama_env",
   "language": "python",
   "name": "python3"
  },
  "language_info": {
   "codemirror_mode": {
    "name": "ipython",
    "version": 3
   },
   "file_extension": ".py",
   "mimetype": "text/x-python",
   "name": "python",
   "nbconvert_exporter": "python",
   "pygments_lexer": "ipython3",
   "version": "3.12.4"
  }
 },
 "nbformat": 4,
 "nbformat_minor": 2
}
